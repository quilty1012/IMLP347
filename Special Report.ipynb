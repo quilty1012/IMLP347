{
 "cells": [
  {
   "cell_type": "code",
   "execution_count": 450,
   "id": "eee66bdc",
   "metadata": {},
   "outputs": [],
   "source": [
    "%matplotlib inline\n",
    "\n",
    "from sklearn import svm\n",
    "from sklearn import datasets\n",
    "from sklearn.model_selection import train_test_split\n",
    "from sklearn.metrics import accuracy_score\n",
    "from sklearn.metrics import classification_report,confusion_matrix\n",
    "from sklearn.model_selection import cross_val_score\n",
    "from sklearn.ensemble import AdaBoostClassifier\n",
    "\n",
    "import pandas as pd\n",
    "import numpy as np\n",
    "import matplotlib.pyplot as plt\n",
    "import seaborn as sns\n"
   ]
  },
  {
   "cell_type": "code",
   "execution_count": 451,
   "id": "fb532f5f",
   "metadata": {},
   "outputs": [
    {
     "name": "stdout",
     "output_type": "stream",
     "text": [
      ".. _breast_cancer_dataset:\n",
      "\n",
      "Breast cancer wisconsin (diagnostic) dataset\n",
      "--------------------------------------------\n",
      "\n",
      "**Data Set Characteristics:**\n",
      "\n",
      "    :Number of Instances: 569\n",
      "\n",
      "    :Number of Attributes: 30 numeric, predictive attributes and the class\n",
      "\n",
      "    :Attribute Information:\n",
      "        - radius (mean of distances from center to points on the perimeter)\n",
      "        - texture (standard deviation of gray-scale values)\n",
      "        - perimeter\n",
      "        - area\n",
      "        - smoothness (local variation in radius lengths)\n",
      "        - compactness (perimeter^2 / area - 1.0)\n",
      "        - concavity (severity of concave portions of the contour)\n",
      "        - concave points (number of concave portions of the contour)\n",
      "        - symmetry\n",
      "        - fractal dimension (\"coastline approximation\" - 1)\n",
      "\n",
      "        The mean, standard error, and \"worst\" or largest (mean of the three\n",
      "        worst/largest values) of these features were computed for each image,\n",
      "        resulting in 30 features.  For instance, field 0 is Mean Radius, field\n",
      "        10 is Radius SE, field 20 is Worst Radius.\n",
      "\n",
      "        - class:\n",
      "                - WDBC-Malignant\n",
      "                - WDBC-Benign\n",
      "\n",
      "    :Summary Statistics:\n",
      "\n",
      "    ===================================== ====== ======\n",
      "                                           Min    Max\n",
      "    ===================================== ====== ======\n",
      "    radius (mean):                        6.981  28.11\n",
      "    texture (mean):                       9.71   39.28\n",
      "    perimeter (mean):                     43.79  188.5\n",
      "    area (mean):                          143.5  2501.0\n",
      "    smoothness (mean):                    0.053  0.163\n",
      "    compactness (mean):                   0.019  0.345\n",
      "    concavity (mean):                     0.0    0.427\n",
      "    concave points (mean):                0.0    0.201\n",
      "    symmetry (mean):                      0.106  0.304\n",
      "    fractal dimension (mean):             0.05   0.097\n",
      "    radius (standard error):              0.112  2.873\n",
      "    texture (standard error):             0.36   4.885\n",
      "    perimeter (standard error):           0.757  21.98\n",
      "    area (standard error):                6.802  542.2\n",
      "    smoothness (standard error):          0.002  0.031\n",
      "    compactness (standard error):         0.002  0.135\n",
      "    concavity (standard error):           0.0    0.396\n",
      "    concave points (standard error):      0.0    0.053\n",
      "    symmetry (standard error):            0.008  0.079\n",
      "    fractal dimension (standard error):   0.001  0.03\n",
      "    radius (worst):                       7.93   36.04\n",
      "    texture (worst):                      12.02  49.54\n",
      "    perimeter (worst):                    50.41  251.2\n",
      "    area (worst):                         185.2  4254.0\n",
      "    smoothness (worst):                   0.071  0.223\n",
      "    compactness (worst):                  0.027  1.058\n",
      "    concavity (worst):                    0.0    1.252\n",
      "    concave points (worst):               0.0    0.291\n",
      "    symmetry (worst):                     0.156  0.664\n",
      "    fractal dimension (worst):            0.055  0.208\n",
      "    ===================================== ====== ======\n",
      "\n",
      "    :Missing Attribute Values: None\n",
      "\n",
      "    :Class Distribution: 212 - Malignant, 357 - Benign\n",
      "\n",
      "    :Creator:  Dr. William H. Wolberg, W. Nick Street, Olvi L. Mangasarian\n",
      "\n",
      "    :Donor: Nick Street\n",
      "\n",
      "    :Date: November, 1995\n",
      "\n",
      "This is a copy of UCI ML Breast Cancer Wisconsin (Diagnostic) datasets.\n",
      "https://goo.gl/U2Uwz2\n",
      "\n",
      "Features are computed from a digitized image of a fine needle\n",
      "aspirate (FNA) of a breast mass.  They describe\n",
      "characteristics of the cell nuclei present in the image.\n",
      "\n",
      "Separating plane described above was obtained using\n",
      "Multisurface Method-Tree (MSM-T) [K. P. Bennett, \"Decision Tree\n",
      "Construction Via Linear Programming.\" Proceedings of the 4th\n",
      "Midwest Artificial Intelligence and Cognitive Science Society,\n",
      "pp. 97-101, 1992], a classification method which uses linear\n",
      "programming to construct a decision tree.  Relevant features\n",
      "were selected using an exhaustive search in the space of 1-4\n",
      "features and 1-3 separating planes.\n",
      "\n",
      "The actual linear program used to obtain the separating plane\n",
      "in the 3-dimensional space is that described in:\n",
      "[K. P. Bennett and O. L. Mangasarian: \"Robust Linear\n",
      "Programming Discrimination of Two Linearly Inseparable Sets\",\n",
      "Optimization Methods and Software 1, 1992, 23-34].\n",
      "\n",
      "This database is also available through the UW CS ftp server:\n",
      "\n",
      "ftp ftp.cs.wisc.edu\n",
      "cd math-prog/cpo-dataset/machine-learn/WDBC/\n",
      "\n",
      ".. topic:: References\n",
      "\n",
      "   - W.N. Street, W.H. Wolberg and O.L. Mangasarian. Nuclear feature extraction \n",
      "     for breast tumor diagnosis. IS&T/SPIE 1993 International Symposium on \n",
      "     Electronic Imaging: Science and Technology, volume 1905, pages 861-870,\n",
      "     San Jose, CA, 1993.\n",
      "   - O.L. Mangasarian, W.N. Street and W.H. Wolberg. Breast cancer diagnosis and \n",
      "     prognosis via linear programming. Operations Research, 43(4), pages 570-577, \n",
      "     July-August 1995.\n",
      "   - W.H. Wolberg, W.N. Street, and O.L. Mangasarian. Machine learning techniques\n",
      "     to diagnose breast cancer from fine-needle aspirates. Cancer Letters 77 (1994) \n",
      "     163-171.\n",
      "{'data': array([[1.799e+01, 1.038e+01, 1.228e+02, ..., 2.654e-01, 4.601e-01,\n",
      "        1.189e-01],\n",
      "       [2.057e+01, 1.777e+01, 1.329e+02, ..., 1.860e-01, 2.750e-01,\n",
      "        8.902e-02],\n",
      "       [1.969e+01, 2.125e+01, 1.300e+02, ..., 2.430e-01, 3.613e-01,\n",
      "        8.758e-02],\n",
      "       ...,\n",
      "       [1.660e+01, 2.808e+01, 1.083e+02, ..., 1.418e-01, 2.218e-01,\n",
      "        7.820e-02],\n",
      "       [2.060e+01, 2.933e+01, 1.401e+02, ..., 2.650e-01, 4.087e-01,\n",
      "        1.240e-01],\n",
      "       [7.760e+00, 2.454e+01, 4.792e+01, ..., 0.000e+00, 2.871e-01,\n",
      "        7.039e-02]]), 'target': array([0, 0, 0, 0, 0, 0, 0, 0, 0, 0, 0, 0, 0, 0, 0, 0, 0, 0, 0, 1, 1, 1,\n",
      "       0, 0, 0, 0, 0, 0, 0, 0, 0, 0, 0, 0, 0, 0, 0, 1, 0, 0, 0, 0, 0, 0,\n",
      "       0, 0, 1, 0, 1, 1, 1, 1, 1, 0, 0, 1, 0, 0, 1, 1, 1, 1, 0, 1, 0, 0,\n",
      "       1, 1, 1, 1, 0, 1, 0, 0, 1, 0, 1, 0, 0, 1, 1, 1, 0, 0, 1, 0, 0, 0,\n",
      "       1, 1, 1, 0, 1, 1, 0, 0, 1, 1, 1, 0, 0, 1, 1, 1, 1, 0, 1, 1, 0, 1,\n",
      "       1, 1, 1, 1, 1, 1, 1, 0, 0, 0, 1, 0, 0, 1, 1, 1, 0, 0, 1, 0, 1, 0,\n",
      "       0, 1, 0, 0, 1, 1, 0, 1, 1, 0, 1, 1, 1, 1, 0, 1, 1, 1, 1, 1, 1, 1,\n",
      "       1, 1, 0, 1, 1, 1, 1, 0, 0, 1, 0, 1, 1, 0, 0, 1, 1, 0, 0, 1, 1, 1,\n",
      "       1, 0, 1, 1, 0, 0, 0, 1, 0, 1, 0, 1, 1, 1, 0, 1, 1, 0, 0, 1, 0, 0,\n",
      "       0, 0, 1, 0, 0, 0, 1, 0, 1, 0, 1, 1, 0, 1, 0, 0, 0, 0, 1, 1, 0, 0,\n",
      "       1, 1, 1, 0, 1, 1, 1, 1, 1, 0, 0, 1, 1, 0, 1, 1, 0, 0, 1, 0, 1, 1,\n",
      "       1, 1, 0, 1, 1, 1, 1, 1, 0, 1, 0, 0, 0, 0, 0, 0, 0, 0, 0, 0, 0, 0,\n",
      "       0, 0, 1, 1, 1, 1, 1, 1, 0, 1, 0, 1, 1, 0, 1, 1, 0, 1, 0, 0, 1, 1,\n",
      "       1, 1, 1, 1, 1, 1, 1, 1, 1, 1, 1, 0, 1, 1, 0, 1, 0, 1, 1, 1, 1, 1,\n",
      "       1, 1, 1, 1, 1, 1, 1, 1, 1, 0, 1, 1, 1, 0, 1, 0, 1, 1, 1, 1, 0, 0,\n",
      "       0, 1, 1, 1, 1, 0, 1, 0, 1, 0, 1, 1, 1, 0, 1, 1, 1, 1, 1, 1, 1, 0,\n",
      "       0, 0, 1, 1, 1, 1, 1, 1, 1, 1, 1, 1, 1, 0, 0, 1, 0, 0, 0, 1, 0, 0,\n",
      "       1, 1, 1, 1, 1, 0, 1, 1, 1, 1, 1, 0, 1, 1, 1, 0, 1, 1, 0, 0, 1, 1,\n",
      "       1, 1, 1, 1, 0, 1, 1, 1, 1, 1, 1, 1, 0, 1, 1, 1, 1, 1, 0, 1, 1, 0,\n",
      "       1, 1, 1, 1, 1, 1, 1, 1, 1, 1, 1, 1, 0, 1, 0, 0, 1, 0, 1, 1, 1, 1,\n",
      "       1, 0, 1, 1, 0, 1, 0, 1, 1, 0, 1, 0, 1, 1, 1, 1, 1, 1, 1, 1, 0, 0,\n",
      "       1, 1, 1, 1, 1, 1, 0, 1, 1, 1, 1, 1, 1, 1, 1, 1, 1, 0, 1, 1, 1, 1,\n",
      "       1, 1, 1, 0, 1, 0, 1, 1, 0, 1, 1, 1, 1, 1, 0, 0, 1, 0, 1, 0, 1, 1,\n",
      "       1, 1, 1, 0, 1, 1, 0, 1, 0, 1, 0, 0, 1, 1, 1, 0, 1, 1, 1, 1, 1, 1,\n",
      "       1, 1, 1, 1, 1, 0, 1, 0, 0, 1, 1, 1, 1, 1, 1, 1, 1, 1, 1, 1, 1, 1,\n",
      "       1, 1, 1, 1, 1, 1, 1, 1, 1, 1, 1, 1, 0, 0, 0, 0, 0, 0, 1]), 'frame': None, 'target_names': array(['malignant', 'benign'], dtype='<U9'), 'DESCR': '.. _breast_cancer_dataset:\\n\\nBreast cancer wisconsin (diagnostic) dataset\\n--------------------------------------------\\n\\n**Data Set Characteristics:**\\n\\n    :Number of Instances: 569\\n\\n    :Number of Attributes: 30 numeric, predictive attributes and the class\\n\\n    :Attribute Information:\\n        - radius (mean of distances from center to points on the perimeter)\\n        - texture (standard deviation of gray-scale values)\\n        - perimeter\\n        - area\\n        - smoothness (local variation in radius lengths)\\n        - compactness (perimeter^2 / area - 1.0)\\n        - concavity (severity of concave portions of the contour)\\n        - concave points (number of concave portions of the contour)\\n        - symmetry\\n        - fractal dimension (\"coastline approximation\" - 1)\\n\\n        The mean, standard error, and \"worst\" or largest (mean of the three\\n        worst/largest values) of these features were computed for each image,\\n        resulting in 30 features.  For instance, field 0 is Mean Radius, field\\n        10 is Radius SE, field 20 is Worst Radius.\\n\\n        - class:\\n                - WDBC-Malignant\\n                - WDBC-Benign\\n\\n    :Summary Statistics:\\n\\n    ===================================== ====== ======\\n                                           Min    Max\\n    ===================================== ====== ======\\n    radius (mean):                        6.981  28.11\\n    texture (mean):                       9.71   39.28\\n    perimeter (mean):                     43.79  188.5\\n    area (mean):                          143.5  2501.0\\n    smoothness (mean):                    0.053  0.163\\n    compactness (mean):                   0.019  0.345\\n    concavity (mean):                     0.0    0.427\\n    concave points (mean):                0.0    0.201\\n    symmetry (mean):                      0.106  0.304\\n    fractal dimension (mean):             0.05   0.097\\n    radius (standard error):              0.112  2.873\\n    texture (standard error):             0.36   4.885\\n    perimeter (standard error):           0.757  21.98\\n    area (standard error):                6.802  542.2\\n    smoothness (standard error):          0.002  0.031\\n    compactness (standard error):         0.002  0.135\\n    concavity (standard error):           0.0    0.396\\n    concave points (standard error):      0.0    0.053\\n    symmetry (standard error):            0.008  0.079\\n    fractal dimension (standard error):   0.001  0.03\\n    radius (worst):                       7.93   36.04\\n    texture (worst):                      12.02  49.54\\n    perimeter (worst):                    50.41  251.2\\n    area (worst):                         185.2  4254.0\\n    smoothness (worst):                   0.071  0.223\\n    compactness (worst):                  0.027  1.058\\n    concavity (worst):                    0.0    1.252\\n    concave points (worst):               0.0    0.291\\n    symmetry (worst):                     0.156  0.664\\n    fractal dimension (worst):            0.055  0.208\\n    ===================================== ====== ======\\n\\n    :Missing Attribute Values: None\\n\\n    :Class Distribution: 212 - Malignant, 357 - Benign\\n\\n    :Creator:  Dr. William H. Wolberg, W. Nick Street, Olvi L. Mangasarian\\n\\n    :Donor: Nick Street\\n\\n    :Date: November, 1995\\n\\nThis is a copy of UCI ML Breast Cancer Wisconsin (Diagnostic) datasets.\\nhttps://goo.gl/U2Uwz2\\n\\nFeatures are computed from a digitized image of a fine needle\\naspirate (FNA) of a breast mass.  They describe\\ncharacteristics of the cell nuclei present in the image.\\n\\nSeparating plane described above was obtained using\\nMultisurface Method-Tree (MSM-T) [K. P. Bennett, \"Decision Tree\\nConstruction Via Linear Programming.\" Proceedings of the 4th\\nMidwest Artificial Intelligence and Cognitive Science Society,\\npp. 97-101, 1992], a classification method which uses linear\\nprogramming to construct a decision tree.  Relevant features\\nwere selected using an exhaustive search in the space of 1-4\\nfeatures and 1-3 separating planes.\\n\\nThe actual linear program used to obtain the separating plane\\nin the 3-dimensional space is that described in:\\n[K. P. Bennett and O. L. Mangasarian: \"Robust Linear\\nProgramming Discrimination of Two Linearly Inseparable Sets\",\\nOptimization Methods and Software 1, 1992, 23-34].\\n\\nThis database is also available through the UW CS ftp server:\\n\\nftp ftp.cs.wisc.edu\\ncd math-prog/cpo-dataset/machine-learn/WDBC/\\n\\n.. topic:: References\\n\\n   - W.N. Street, W.H. Wolberg and O.L. Mangasarian. Nuclear feature extraction \\n     for breast tumor diagnosis. IS&T/SPIE 1993 International Symposium on \\n     Electronic Imaging: Science and Technology, volume 1905, pages 861-870,\\n     San Jose, CA, 1993.\\n   - O.L. Mangasarian, W.N. Street and W.H. Wolberg. Breast cancer diagnosis and \\n     prognosis via linear programming. Operations Research, 43(4), pages 570-577, \\n     July-August 1995.\\n   - W.H. Wolberg, W.N. Street, and O.L. Mangasarian. Machine learning techniques\\n     to diagnose breast cancer from fine-needle aspirates. Cancer Letters 77 (1994) \\n     163-171.', 'feature_names': array(['mean radius', 'mean texture', 'mean perimeter', 'mean area',\n",
      "       'mean smoothness', 'mean compactness', 'mean concavity',\n",
      "       'mean concave points', 'mean symmetry', 'mean fractal dimension',\n",
      "       'radius error', 'texture error', 'perimeter error', 'area error',\n",
      "       'smoothness error', 'compactness error', 'concavity error',\n",
      "       'concave points error', 'symmetry error',\n",
      "       'fractal dimension error', 'worst radius', 'worst texture',\n",
      "       'worst perimeter', 'worst area', 'worst smoothness',\n",
      "       'worst compactness', 'worst concavity', 'worst concave points',\n",
      "       'worst symmetry', 'worst fractal dimension'], dtype='<U23'), 'filename': 'breast_cancer.csv', 'data_module': 'sklearn.datasets.data'}\n"
     ]
    }
   ],
   "source": [
    "breast_cancer=datasets.load_breast_cancer()\n",
    "print(breast_cancer.DESCR)\n",
    "print(breast_cancer)"
   ]
  },
  {
   "cell_type": "code",
   "execution_count": 452,
   "id": "acb70b45",
   "metadata": {},
   "outputs": [
    {
     "name": "stdout",
     "output_type": "stream",
     "text": [
      "   mean radius  mean texture  mean perimeter  mean area  mean smoothness  \\\n",
      "0        17.99         10.38          122.80     1001.0          0.11840   \n",
      "1        20.57         17.77          132.90     1326.0          0.08474   \n",
      "2        19.69         21.25          130.00     1203.0          0.10960   \n",
      "3        11.42         20.38           77.58      386.1          0.14250   \n",
      "4        20.29         14.34          135.10     1297.0          0.10030   \n",
      "\n",
      "   mean compactness  mean concavity  mean concave points  mean symmetry  \\\n",
      "0           0.27760          0.3001              0.14710         0.2419   \n",
      "1           0.07864          0.0869              0.07017         0.1812   \n",
      "2           0.15990          0.1974              0.12790         0.2069   \n",
      "3           0.28390          0.2414              0.10520         0.2597   \n",
      "4           0.13280          0.1980              0.10430         0.1809   \n",
      "\n",
      "   mean fractal dimension  radius error  texture error  perimeter error  \\\n",
      "0                 0.07871        1.0950         0.9053            8.589   \n",
      "1                 0.05667        0.5435         0.7339            3.398   \n",
      "2                 0.05999        0.7456         0.7869            4.585   \n",
      "3                 0.09744        0.4956         1.1560            3.445   \n",
      "4                 0.05883        0.7572         0.7813            5.438   \n",
      "\n",
      "   area error  smoothness error  compactness error  concavity error  \\\n",
      "0      153.40          0.006399            0.04904          0.05373   \n",
      "1       74.08          0.005225            0.01308          0.01860   \n",
      "2       94.03          0.006150            0.04006          0.03832   \n",
      "3       27.23          0.009110            0.07458          0.05661   \n",
      "4       94.44          0.011490            0.02461          0.05688   \n",
      "\n",
      "   concave points error  symmetry error  fractal dimension error  \\\n",
      "0               0.01587         0.03003                 0.006193   \n",
      "1               0.01340         0.01389                 0.003532   \n",
      "2               0.02058         0.02250                 0.004571   \n",
      "3               0.01867         0.05963                 0.009208   \n",
      "4               0.01885         0.01756                 0.005115   \n",
      "\n",
      "   worst radius  worst texture  worst perimeter  worst area  worst smoothness  \\\n",
      "0         25.38          17.33           184.60      2019.0            0.1622   \n",
      "1         24.99          23.41           158.80      1956.0            0.1238   \n",
      "2         23.57          25.53           152.50      1709.0            0.1444   \n",
      "3         14.91          26.50            98.87       567.7            0.2098   \n",
      "4         22.54          16.67           152.20      1575.0            0.1374   \n",
      "\n",
      "   worst compactness  worst concavity  worst concave points  worst symmetry  \\\n",
      "0             0.6656           0.7119                0.2654          0.4601   \n",
      "1             0.1866           0.2416                0.1860          0.2750   \n",
      "2             0.4245           0.4504                0.2430          0.3613   \n",
      "3             0.8663           0.6869                0.2575          0.6638   \n",
      "4             0.2050           0.4000                0.1625          0.2364   \n",
      "\n",
      "   worst fractal dimension  \n",
      "0                  0.11890  \n",
      "1                  0.08902  \n",
      "2                  0.08758  \n",
      "3                  0.17300  \n",
      "4                  0.07678  \n",
      "(569, 30)\n"
     ]
    }
   ],
   "source": [
    "X=pd.DataFrame(breast_cancer['data'],columns=breast_cancer['feature_names'])\n",
    "print(X.head())\n",
    "print(X.shape)"
   ]
  },
  {
   "cell_type": "code",
   "execution_count": 453,
   "id": "59a9a3ac",
   "metadata": {},
   "outputs": [
    {
     "name": "stdout",
     "output_type": "stream",
     "text": [
      "   target_names\n",
      "0             0\n",
      "1             0\n",
      "2             0\n",
      "3             0\n",
      "4             0\n",
      "(569, 1)\n"
     ]
    }
   ],
   "source": [
    "y= pd.DataFrame(breast_cancer['target'], columns=['target_names'])\n",
    "print(y.head())\n",
    "print(y.shape)"
   ]
  },
  {
   "cell_type": "code",
   "execution_count": 454,
   "id": "69044854",
   "metadata": {},
   "outputs": [
    {
     "name": "stdout",
     "output_type": "stream",
     "text": [
      "   mean radius  mean texture  mean perimeter  mean area  mean smoothness  \\\n",
      "0        17.99         10.38          122.80     1001.0          0.11840   \n",
      "1        20.57         17.77          132.90     1326.0          0.08474   \n",
      "2        19.69         21.25          130.00     1203.0          0.10960   \n",
      "3        11.42         20.38           77.58      386.1          0.14250   \n",
      "4        20.29         14.34          135.10     1297.0          0.10030   \n",
      "\n",
      "   mean compactness  mean concavity  mean concave points  mean symmetry  \\\n",
      "0           0.27760          0.3001              0.14710         0.2419   \n",
      "1           0.07864          0.0869              0.07017         0.1812   \n",
      "2           0.15990          0.1974              0.12790         0.2069   \n",
      "3           0.28390          0.2414              0.10520         0.2597   \n",
      "4           0.13280          0.1980              0.10430         0.1809   \n",
      "\n",
      "   mean fractal dimension  radius error  texture error  perimeter error  \\\n",
      "0                 0.07871        1.0950         0.9053            8.589   \n",
      "1                 0.05667        0.5435         0.7339            3.398   \n",
      "2                 0.05999        0.7456         0.7869            4.585   \n",
      "3                 0.09744        0.4956         1.1560            3.445   \n",
      "4                 0.05883        0.7572         0.7813            5.438   \n",
      "\n",
      "   area error  smoothness error  compactness error  concavity error  \\\n",
      "0      153.40          0.006399            0.04904          0.05373   \n",
      "1       74.08          0.005225            0.01308          0.01860   \n",
      "2       94.03          0.006150            0.04006          0.03832   \n",
      "3       27.23          0.009110            0.07458          0.05661   \n",
      "4       94.44          0.011490            0.02461          0.05688   \n",
      "\n",
      "   concave points error  symmetry error  fractal dimension error  \\\n",
      "0               0.01587         0.03003                 0.006193   \n",
      "1               0.01340         0.01389                 0.003532   \n",
      "2               0.02058         0.02250                 0.004571   \n",
      "3               0.01867         0.05963                 0.009208   \n",
      "4               0.01885         0.01756                 0.005115   \n",
      "\n",
      "   worst radius  worst texture  worst perimeter  worst area  worst smoothness  \\\n",
      "0         25.38          17.33           184.60      2019.0            0.1622   \n",
      "1         24.99          23.41           158.80      1956.0            0.1238   \n",
      "2         23.57          25.53           152.50      1709.0            0.1444   \n",
      "3         14.91          26.50            98.87       567.7            0.2098   \n",
      "4         22.54          16.67           152.20      1575.0            0.1374   \n",
      "\n",
      "   worst compactness  worst concavity  worst concave points  worst symmetry  \\\n",
      "0             0.6656           0.7119                0.2654          0.4601   \n",
      "1             0.1866           0.2416                0.1860          0.2750   \n",
      "2             0.4245           0.4504                0.2430          0.3613   \n",
      "3             0.8663           0.6869                0.2575          0.6638   \n",
      "4             0.2050           0.4000                0.1625          0.2364   \n",
      "\n",
      "   worst fractal dimension  target_names  \n",
      "0                  0.11890             0  \n",
      "1                  0.08902             0  \n",
      "2                  0.08758             0  \n",
      "3                  0.17300             0  \n",
      "4                  0.07678             0  \n"
     ]
    }
   ],
   "source": [
    "breast_data=pd.concat([X,y],axis=1)\n",
    "print(breast_data.head())"
   ]
  },
  {
   "cell_type": "code",
   "execution_count": 455,
   "id": "53f0091b",
   "metadata": {},
   "outputs": [
    {
     "name": "stdout",
     "output_type": "stream",
     "text": [
      "\n",
      "進行標準化前:\n",
      "平均值:\n",
      "mean radius                 14.127292\n",
      "mean texture                19.289649\n",
      "mean perimeter              91.969033\n",
      "mean area                  654.889104\n",
      "mean smoothness              0.096360\n",
      "mean compactness             0.104341\n",
      "mean concavity               0.088799\n",
      "mean concave points          0.048919\n",
      "mean symmetry                0.181162\n",
      "mean fractal dimension       0.062798\n",
      "radius error                 0.405172\n",
      "texture error                1.216853\n",
      "perimeter error              2.866059\n",
      "area error                  40.337079\n",
      "smoothness error             0.007041\n",
      "compactness error            0.025478\n",
      "concavity error              0.031894\n",
      "concave points error         0.011796\n",
      "symmetry error               0.020542\n",
      "fractal dimension error      0.003795\n",
      "worst radius                16.269190\n",
      "worst texture               25.677223\n",
      "worst perimeter            107.261213\n",
      "worst area                 880.583128\n",
      "worst smoothness             0.132369\n",
      "worst compactness            0.254265\n",
      "worst concavity              0.272188\n",
      "worst concave points         0.114606\n",
      "worst symmetry               0.290076\n",
      "worst fractal dimension      0.083946\n",
      "dtype: float64\n",
      "標準差:\n",
      "mean radius                  3.524049\n",
      "mean texture                 4.301036\n",
      "mean perimeter              24.298981\n",
      "mean area                  351.914129\n",
      "mean smoothness              0.014064\n",
      "mean compactness             0.052813\n",
      "mean concavity               0.079720\n",
      "mean concave points          0.038803\n",
      "mean symmetry                0.027414\n",
      "mean fractal dimension       0.007060\n",
      "radius error                 0.277313\n",
      "texture error                0.551648\n",
      "perimeter error              2.021855\n",
      "area error                  45.491006\n",
      "smoothness error             0.003003\n",
      "compactness error            0.017908\n",
      "concavity error              0.030186\n",
      "concave points error         0.006170\n",
      "symmetry error               0.008266\n",
      "fractal dimension error      0.002646\n",
      "worst radius                 4.833242\n",
      "worst texture                6.146258\n",
      "worst perimeter             33.602542\n",
      "worst area                 569.356993\n",
      "worst smoothness             0.022832\n",
      "worst compactness            0.157336\n",
      "worst concavity              0.208624\n",
      "worst concave points         0.065732\n",
      "worst symmetry               0.061867\n",
      "worst fractal dimension      0.018061\n",
      "dtype: float64\n",
      "-------------------------------------------------------\n",
      "進行標準化後:\n",
      "平均值:\n",
      "mean radius               -3.162867e-15\n",
      "mean texture              -6.530609e-15\n",
      "mean perimeter            -7.078891e-16\n",
      "mean area                 -8.799835e-16\n",
      "mean smoothness            6.132177e-15\n",
      "mean compactness          -1.120369e-15\n",
      "mean concavity            -4.421380e-16\n",
      "mean concave points        9.732500e-16\n",
      "mean symmetry             -1.971670e-15\n",
      "mean fractal dimension    -1.453631e-15\n",
      "radius error              -9.076415e-16\n",
      "texture error             -8.853492e-16\n",
      "perimeter error            1.773674e-15\n",
      "area error                -8.291551e-16\n",
      "smoothness error          -7.541809e-16\n",
      "compactness error         -3.921877e-16\n",
      "concavity error            7.917900e-16\n",
      "concave points error      -2.739461e-16\n",
      "symmetry error            -3.108234e-16\n",
      "fractal dimension error   -3.366766e-16\n",
      "worst radius              -2.333224e-15\n",
      "worst texture              1.763674e-15\n",
      "worst perimeter           -1.198026e-15\n",
      "worst area                 5.049661e-16\n",
      "worst smoothness          -5.213170e-15\n",
      "worst compactness         -2.174788e-15\n",
      "worst concavity            6.856456e-16\n",
      "worst concave points      -1.412656e-16\n",
      "worst symmetry            -2.289567e-15\n",
      "worst fractal dimension    2.575171e-15\n",
      "dtype: float64\n",
      "標準差:\n",
      "mean radius                1.00088\n",
      "mean texture               1.00088\n",
      "mean perimeter             1.00088\n",
      "mean area                  1.00088\n",
      "mean smoothness            1.00088\n",
      "mean compactness           1.00088\n",
      "mean concavity             1.00088\n",
      "mean concave points        1.00088\n",
      "mean symmetry              1.00088\n",
      "mean fractal dimension     1.00088\n",
      "radius error               1.00088\n",
      "texture error              1.00088\n",
      "perimeter error            1.00088\n",
      "area error                 1.00088\n",
      "smoothness error           1.00088\n",
      "compactness error          1.00088\n",
      "concavity error            1.00088\n",
      "concave points error       1.00088\n",
      "symmetry error             1.00088\n",
      "fractal dimension error    1.00088\n",
      "worst radius               1.00088\n",
      "worst texture              1.00088\n",
      "worst perimeter            1.00088\n",
      "worst area                 1.00088\n",
      "worst smoothness           1.00088\n",
      "worst compactness          1.00088\n",
      "worst concavity            1.00088\n",
      "worst concave points       1.00088\n",
      "worst symmetry             1.00088\n",
      "worst fractal dimension    1.00088\n",
      "dtype: float64\n"
     ]
    }
   ],
   "source": [
    "#標準化數據\n",
    "\n",
    "from sklearn.preprocessing import StandardScaler\n",
    "\n",
    "sc = StandardScaler()\n",
    "sc.fit(X)\n",
    "print()\n",
    "#print(sc.mean_)  #mean\n",
    "#print(sc.scale_) #standard deviation\n",
    "print('進行標準化前:')\n",
    "print('平均值:')\n",
    "print(X.mean())  #mean\n",
    "print('標準差:')\n",
    "print(X.std())   #standard deviation\n",
    "\n",
    "X_std = sc.transform(X)\n",
    "print('-------------------------------------------------------')\n",
    "print('進行標準化後:')\n",
    "X_std=pd.DataFrame(X_std,columns=breast_cancer['feature_names'])\n",
    "print('平均值:')\n",
    "print(X_std.mean())  #mean\n",
    "print('標準差:')\n",
    "print(X_std.std())   #standard deviation\n"
   ]
  },
  {
   "cell_type": "code",
   "execution_count": 456,
   "id": "fdbd9b73",
   "metadata": {},
   "outputs": [],
   "source": [
    "#print(X_std.head())\n",
    "#print(X_std.shape)"
   ]
  },
  {
   "cell_type": "code",
   "execution_count": 457,
   "id": "f2ad663d",
   "metadata": {},
   "outputs": [
    {
     "data": {
      "text/plain": [
       "(569,)"
      ]
     },
     "execution_count": 457,
     "metadata": {},
     "output_type": "execute_result"
    }
   ],
   "source": [
    "y=np.ravel(y)\n",
    "y.shape"
   ]
  },
  {
   "cell_type": "code",
   "execution_count": 458,
   "id": "c556c5fc",
   "metadata": {},
   "outputs": [],
   "source": [
    "X_train_std,X_test_std,y_train_std,y_test_std=train_test_split(X_std,y,test_size=0.2,random_state=10)"
   ]
  },
  {
   "cell_type": "code",
   "execution_count": 459,
   "id": "4cbe630c",
   "metadata": {},
   "outputs": [
    {
     "name": "stdout",
     "output_type": "stream",
     "text": [
      "     mean radius  mean texture  mean perimeter  mean area  mean smoothness  \\\n",
      "567     1.838341      2.336457        1.982524   1.735218         1.525767   \n",
      "295    -0.101476     -1.400813       -0.161014  -0.205313        -0.311725   \n",
      "91      0.352947      0.807574        0.339035   0.208504        -0.310301   \n",
      "1       1.829821     -0.353632        1.685955   1.908708        -0.826962   \n",
      "94      0.264902      0.125743        0.343154   0.144227         0.536567   \n",
      "\n",
      "     mean compactness  mean concavity  mean concave points  mean symmetry  \\\n",
      "567          3.272144        3.296944             2.658866       2.137194   \n",
      "295         -0.798444       -0.981414            -0.767349      -0.801815   \n",
      "91          -0.014043        0.293795             0.668344      -0.345447   \n",
      "1           -0.487072       -0.023846             0.548144       0.001392   \n",
      "94           0.965749        1.019472             1.011920       0.158383   \n",
      "\n",
      "     mean fractal dimension  radius error  texture error  perimeter error  \\\n",
      "567                1.043695      1.157935       0.686088         1.438530   \n",
      "295               -0.521339     -0.671573      -0.947547        -0.686637   \n",
      "91                -0.259083     -0.333029      -0.681383        -0.391599   \n",
      "1                 -0.868652      0.499255      -0.876244         0.263327   \n",
      "94                 0.006009      0.258520      -0.458037         0.415796   \n",
      "\n",
      "     area error  smoothness error  compactness error  concavity error  \\\n",
      "567    1.009503         -0.173000           2.017716         1.302285   \n",
      "295   -0.497174         -0.897696          -0.968294        -0.915854   \n",
      "91    -0.239754          0.947045          -0.058021         0.444844   \n",
      "1      0.742402         -0.605351          -0.692926        -0.440780   \n",
      "94     0.149676          0.736370           0.652335         0.556252   \n",
      "\n",
      "     concave points error  symmetry error  fractal dimension error  \\\n",
      "567              0.785721        0.326634                 0.904057   \n",
      "295             -0.805718        0.120800                -0.753819   \n",
      "91               0.946309        0.504619                -0.625213   \n",
      "1                0.260162       -0.805450                -0.099444   \n",
      "94               1.089053       -0.673475                -0.103983   \n",
      "\n",
      "     worst radius  worst texture  worst perimeter  worst area  \\\n",
      "567      1.961239       2.237926         2.303601    1.653171   \n",
      "295     -0.331164      -1.424431        -0.389933   -0.385832   \n",
      "91       0.033301       0.026507         0.007112   -0.087339   \n",
      "1        1.805927      -0.369203         1.535126    1.890489   \n",
      "94       0.406050      -0.235671         0.483686    0.253872   \n",
      "\n",
      "     worst smoothness  worst compactness  worst concavity  \\\n",
      "567          1.430427           3.904848         3.197605   \n",
      "295         -0.673696          -0.935539        -1.126787   \n",
      "91          -0.292324          -0.347110         0.059545   \n",
      "1           -0.375612          -0.430444        -0.146749   \n",
      "94           0.996451           1.056214         1.190321   \n",
      "\n",
      "     worst concave points  worst symmetry  worst fractal dimension  \n",
      "567              2.289985        1.919083                 2.219635  \n",
      "295             -0.861616       -0.125792                -0.886975  \n",
      "91               0.502383       -0.557739                -0.868134  \n",
      "1                1.087084       -0.243890                 0.281190  \n",
      "94               1.475363       -0.107996                -0.088988  \n"
     ]
    },
    {
     "data": {
      "text/plain": [
       "(455, 30)"
      ]
     },
     "execution_count": 459,
     "metadata": {},
     "output_type": "execute_result"
    }
   ],
   "source": [
    "print(X_train_std.head())\n",
    "X_train_std.shape"
   ]
  },
  {
   "cell_type": "code",
   "execution_count": 460,
   "id": "800e0372",
   "metadata": {},
   "outputs": [
    {
     "name": "stdout",
     "output_type": "stream",
     "text": [
      "     mean radius  mean texture  mean perimeter  mean area  mean smoothness  \\\n",
      "172     0.378508     -1.721948        0.433773   0.233247         2.087974   \n",
      "553    -1.361647      0.616755       -1.357589  -1.111729        -0.281835   \n",
      "374    -0.124197     -0.749234       -0.170076  -0.215552        -0.949367   \n",
      "370     0.631281      0.930909        0.701509   0.527612         0.075415   \n",
      "419    -0.842753      0.493420       -0.865778  -0.780960         0.387120   \n",
      "\n",
      "     mean compactness  mean concavity  mean concave points  mean symmetry  \\\n",
      "172          0.969539        1.436297             1.567780       0.563638   \n",
      "553         -0.915186       -0.613176            -0.931141      -0.436721   \n",
      "374         -0.769449       -0.793968            -0.737944       0.220449   \n",
      "370          0.859620        1.158832             1.001086       1.326685   \n",
      "419         -0.844497       -1.002443            -0.984276      -0.717843   \n",
      "\n",
      "     mean fractal dimension  radius error  texture error  perimeter error  \\\n",
      "172                1.118828      0.056765      -1.013408        -0.030226   \n",
      "553                0.419950     -0.374896       1.201362        -0.368827   \n",
      "374               -0.865817     -0.846981      -1.288644        -0.739605   \n",
      "370               -0.087553      0.093940      -0.353531         0.052444   \n",
      "419               -0.192455     -0.428312       0.836678        -0.444567   \n",
      "\n",
      "     area error  smoothness error  compactness error  concavity error  \\\n",
      "172    0.094672         -0.549349          -0.126765         0.369246   \n",
      "553   -0.494534          1.299726          -0.398947         0.267454   \n",
      "374   -0.579461         -0.937031          -0.536994        -0.669895   \n",
      "370    0.113593         -0.468679           0.765232         0.955794   \n",
      "419   -0.469672         -0.044328          -0.896252        -0.826330   \n",
      "\n",
      "     concave points error  symmetry error  fractal dimension error  \\\n",
      "172              0.227720       -0.317504                 0.141124   \n",
      "553              0.166080        2.064110                 0.313228   \n",
      "374             -0.885849       -0.134675                -0.611974   \n",
      "370              0.772745        1.383649                 0.109729   \n",
      "419             -0.914398        0.774624                -0.656230   \n",
      "\n",
      "     worst radius  worst texture  worst perimeter  worst area  \\\n",
      "172      0.522016      -1.406518         0.528365    0.389232   \n",
      "553     -1.330337      -0.102139        -1.322527   -1.027998   \n",
      "374     -0.295960      -0.890303        -0.241301   -0.369132   \n",
      "370      0.644194       0.871666         0.656444    0.499980   \n",
      "419     -0.809525       0.528066        -0.834040   -0.742864   \n",
      "\n",
      "     worst smoothness  worst compactness  worst concavity  \\\n",
      "172          0.908780           0.661808         1.491126   \n",
      "553         -0.967396          -1.089612        -0.922365   \n",
      "374         -0.958629          -0.284132        -0.660084   \n",
      "370          0.400283           1.350111         2.094174   \n",
      "419         -0.182734          -0.912638        -1.133983   \n",
      "\n",
      "     worst concave points  worst symmetry  worst fractal dimension  \n",
      "172              1.036837        0.509996                 0.945071  \n",
      "553             -1.354653       -0.753491                -0.555035  \n",
      "374             -0.681180        0.683099                -0.384354  \n",
      "370              1.677876        3.111387                 0.675751  \n",
      "419             -1.089406        0.121729                -0.704657  \n"
     ]
    },
    {
     "data": {
      "text/plain": [
       "(114, 30)"
      ]
     },
     "execution_count": 460,
     "metadata": {},
     "output_type": "execute_result"
    }
   ],
   "source": [
    "print(X_test_std.head())\n",
    "X_test_std.shape"
   ]
  },
  {
   "cell_type": "code",
   "execution_count": null,
   "id": "9fc7f221",
   "metadata": {},
   "outputs": [],
   "source": []
  },
  {
   "cell_type": "code",
   "execution_count": null,
   "id": "5ba038d1",
   "metadata": {},
   "outputs": [],
   "source": []
  },
  {
   "cell_type": "code",
   "execution_count": null,
   "id": "145a2638",
   "metadata": {},
   "outputs": [],
   "source": []
  },
  {
   "cell_type": "code",
   "execution_count": null,
   "id": "e7cc2e52",
   "metadata": {},
   "outputs": [],
   "source": []
  },
  {
   "cell_type": "code",
   "execution_count": 461,
   "id": "09d336b7",
   "metadata": {
    "scrolled": true
   },
   "outputs": [
    {
     "name": "stdout",
     "output_type": "stream",
     "text": [
      "training score: 1.0\n",
      "test score: 0.9649122807017544\n",
      "-----------------------------------------\n",
      "繪製confusion_matrix\n",
      "[[38  1]\n",
      " [ 3 72]]\n",
      "              precision    recall  f1-score   support\n",
      "\n",
      "           0       0.93      0.97      0.95        39\n",
      "           1       0.99      0.96      0.97        75\n",
      "\n",
      "    accuracy                           0.96       114\n",
      "   macro avg       0.96      0.97      0.96       114\n",
      "weighted avg       0.97      0.96      0.97       114\n",
      "\n",
      "-----------------------------------------\n"
     ]
    }
   ],
   "source": [
    "#測試AdaBoostClassifier,進行標準化前後是否影響特徵重要度排序\n",
    "#先測試標準化後數據的特徵重要度排序\n",
    "\n",
    "from sklearn.ensemble import AdaBoostClassifier\n",
    "AdaBoost_std = AdaBoostClassifier(n_estimators=100) \n",
    "\n",
    "\n",
    "AdaBoost_std.fit(X_train_std, y_train_std)\n",
    "pred_std = AdaBoost_std.predict(X_test_std)\n",
    "\n",
    "print('training score:',AdaBoost_std.score(X_train_std,y_train_std))\n",
    "print('test score:',AdaBoost_std.score(X_test_std,y_test_std))\n",
    "print('-----------------------------------------')\n",
    "\n",
    "print(\"繪製confusion_matrix\")\n",
    "print(confusion_matrix(y_test_std,pred_std))\n",
    "print(classification_report(y_test_std,pred_std))\n",
    "print('-----------------------------------------')\n",
    "\n",
    "\n"
   ]
  },
  {
   "cell_type": "code",
   "execution_count": 462,
   "id": "eed351b8",
   "metadata": {},
   "outputs": [
    {
     "name": "stdout",
     "output_type": "stream",
     "text": [
      "進行K-fold驗證\n",
      "Fold 1: 0.9473684210526315\n",
      "Fold 2: 0.956140350877193\n",
      "Fold 3: 0.9912280701754386\n",
      "Fold 4: 0.9912280701754386\n",
      "Fold 5: 0.9823008849557522\n",
      "Mean Score: 0.9736531594472908\n"
     ]
    }
   ],
   "source": [
    "print(\"進行K-fold驗證\")\n",
    "scores = cross_val_score(AdaBoost_std, X_std, y, cv=5)\n",
    "\n",
    "for fold, score in enumerate(scores, 1):\n",
    "    print(f\"Fold {fold}: {score}\")\n",
    "    \n",
    "print(\"Mean Score:\", scores.mean())\n"
   ]
  },
  {
   "cell_type": "code",
   "execution_count": 463,
   "id": "3498bb81",
   "metadata": {},
   "outputs": [
    {
     "name": "stdout",
     "output_type": "stream",
     "text": [
      "[0.   0.06 0.   0.03 0.03 0.06 0.01 0.07 0.03 0.01 0.02 0.01 0.01 0.07\n",
      " 0.01 0.03 0.01 0.01 0.05 0.05 0.01 0.07 0.05 0.04 0.11 0.   0.04 0.04\n",
      " 0.04 0.03]\n",
      "[24 21  7 13  1  5 19 22 18 27 26 23 28 15 29  4  8  3 10  6 14  9 11 12\n",
      " 16 17 20  2 25  0]\n",
      "特徵重要度排序：\n",
      "['worst smoothness' 'worst texture' 'mean concave points' 'area error'\n",
      " 'mean texture' 'mean compactness' 'fractal dimension error'\n",
      " 'worst perimeter' 'symmetry error' 'worst concave points'\n",
      " 'worst concavity' 'worst area' 'worst symmetry' 'compactness error'\n",
      " 'worst fractal dimension' 'mean smoothness' 'mean symmetry' 'mean area'\n",
      " 'radius error' 'mean concavity' 'smoothness error'\n",
      " 'mean fractal dimension' 'texture error' 'perimeter error'\n",
      " 'concavity error' 'concave points error' 'worst radius' 'mean perimeter'\n",
      " 'worst compactness' 'mean radius']\n"
     ]
    }
   ],
   "source": [
    "importances_std = AdaBoost_std.feature_importances_\n",
    "importances_std_formatted_array = [round(num, 2) for num in importances_std]\n",
    "print(importances_std)\n",
    "\n",
    "indices_std = np.argsort(importances_std)[::-1]  # 使用[::-1]取反得到降序排序\n",
    "print(indices_std)\n",
    "\n",
    "std_important_feature_sort_descend = breast_cancer.feature_names[indices_std]\n",
    "scores_mean_descend = importances_std[indices_std]\n",
    "\n",
    "print('特徵重要度排序：')\n",
    "print(std_important_feature_sort_descend)\n",
    "\n"
   ]
  },
  {
   "cell_type": "code",
   "execution_count": 464,
   "id": "5ac41e45",
   "metadata": {},
   "outputs": [
    {
     "name": "stdout",
     "output_type": "stream",
     "text": [
      "AdaBoost標準化後特徵重要度排序前10名：\n",
      "第 1 名\n",
      "worst smoothness\n",
      "0.11\n",
      "第 2 名\n",
      "worst texture\n",
      "0.07\n",
      "第 3 名\n",
      "mean concave points\n",
      "0.07\n",
      "第 4 名\n",
      "area error\n",
      "0.07\n",
      "第 5 名\n",
      "mean texture\n",
      "0.06\n",
      "第 6 名\n",
      "mean compactness\n",
      "0.06\n",
      "第 7 名\n",
      "fractal dimension error\n",
      "0.05\n",
      "第 8 名\n",
      "worst perimeter\n",
      "0.05\n",
      "第 9 名\n",
      "symmetry error\n",
      "0.05\n",
      "第 10 名\n",
      "worst concave points\n",
      "0.04\n"
     ]
    }
   ],
   "source": [
    "print('AdaBoost標準化後特徵重要度排序前10名：')\n",
    "for i in range(10):\n",
    "    print('第', i+1, '名')\n",
    "    print(std_important_feature_sort_descend[i])\n",
    "    print(scores_mean_descend[i])"
   ]
  },
  {
   "cell_type": "code",
   "execution_count": 465,
   "id": "a0476276",
   "metadata": {},
   "outputs": [
    {
     "name": "stdout",
     "output_type": "stream",
     "text": [
      "training score: 1.0\n",
      "test score: 0.9649122807017544\n",
      "-----------------------------------------\n",
      "繪製confusion_matrix\n",
      "[[38  1]\n",
      " [ 3 72]]\n",
      "              precision    recall  f1-score   support\n",
      "\n",
      "           0       0.93      0.97      0.95        39\n",
      "           1       0.99      0.96      0.97        75\n",
      "\n",
      "    accuracy                           0.96       114\n",
      "   macro avg       0.96      0.97      0.96       114\n",
      "weighted avg       0.97      0.96      0.97       114\n",
      "\n",
      "-----------------------------------------\n",
      "進行K-fold驗證\n",
      "Fold 1: 0.9473684210526315\n",
      "Fold 2: 0.9649122807017544\n",
      "Fold 3: 0.9912280701754386\n",
      "Fold 4: 0.9912280701754386\n",
      "Fold 5: 0.9823008849557522\n",
      "Mean Score: 0.9754075454122031\n"
     ]
    }
   ],
   "source": [
    "#不使用標準化，測試特徵重要度排序是否相同\n",
    "X_train,X_test,y_train,y_test=train_test_split(X,y,test_size=0.2,random_state=10)\n",
    "\n",
    "AdaBoost = AdaBoostClassifier(n_estimators=100) \n",
    "AdaBoost.fit(X_train, y_train)\n",
    "pred = AdaBoost.predict(X_test)\n",
    "\n",
    "print('training score:',AdaBoost.score(X_train,y_train))\n",
    "print('test score:',AdaBoost.score(X_test,y_test))\n",
    "print('-----------------------------------------')\n",
    "print(\"繪製confusion_matrix\")\n",
    "print(confusion_matrix(y_test,pred))\n",
    "print(classification_report(y_test,pred))\n",
    "print('-----------------------------------------')\n",
    "print(\"進行K-fold驗證\")\n",
    "scores = cross_val_score(AdaBoost_std, X, y, cv=5)\n",
    "\n",
    "for fold, score in enumerate(scores, 1):\n",
    "    print(f\"Fold {fold}: {score}\")\n",
    "    \n",
    "print(\"Mean Score:\", scores.mean())\n"
   ]
  },
  {
   "cell_type": "code",
   "execution_count": 466,
   "id": "b7e81646",
   "metadata": {},
   "outputs": [],
   "source": [
    "importances = AdaBoost.feature_importances_\n",
    "\n",
    "indices = np.argsort(importances)  #np.argsort :Returns the indices that would sort an array.\n"
   ]
  },
  {
   "cell_type": "code",
   "execution_count": 467,
   "id": "468bc6cf",
   "metadata": {},
   "outputs": [
    {
     "name": "stdout",
     "output_type": "stream",
     "text": [
      "特徵重要度排序：\n",
      "['worst smoothness' 'worst texture' 'mean concave points' 'area error'\n",
      " 'mean texture' 'mean compactness' 'fractal dimension error'\n",
      " 'worst perimeter' 'symmetry error' 'worst concave points'\n",
      " 'worst concavity' 'worst area' 'worst symmetry' 'compactness error'\n",
      " 'worst fractal dimension' 'mean smoothness' 'mean symmetry' 'mean area'\n",
      " 'radius error' 'mean concavity' 'smoothness error'\n",
      " 'mean fractal dimension' 'texture error' 'perimeter error'\n",
      " 'concavity error' 'concave points error' 'worst radius' 'mean perimeter'\n",
      " 'worst compactness' 'mean radius']\n"
     ]
    }
   ],
   "source": [
    "important_feature_sort_ascend=breast_cancer.feature_names[indices]\n",
    "important_feature_sort_descend=important_feature_sort_ascend[::-1]\n",
    "\n",
    "\n",
    "\n",
    "print('特徵重要度排序：')\n",
    "print(important_feature_sort_descend)"
   ]
  },
  {
   "cell_type": "code",
   "execution_count": 468,
   "id": "667cba75",
   "metadata": {},
   "outputs": [
    {
     "name": "stdout",
     "output_type": "stream",
     "text": [
      "AdaBoost標準化前特徵重要度排序前10名：\n",
      "第 1 名\n",
      "worst smoothness\n",
      "0.11\n",
      "第 2 名\n",
      "worst texture\n",
      "0.07\n",
      "第 3 名\n",
      "mean concave points\n",
      "0.07\n",
      "第 4 名\n",
      "area error\n",
      "0.07\n",
      "第 5 名\n",
      "mean texture\n",
      "0.06\n",
      "第 6 名\n",
      "mean compactness\n",
      "0.06\n",
      "第 7 名\n",
      "fractal dimension error\n",
      "0.05\n",
      "第 8 名\n",
      "worst perimeter\n",
      "0.05\n",
      "第 9 名\n",
      "symmetry error\n",
      "0.05\n",
      "第 10 名\n",
      "worst concave points\n",
      "0.04\n"
     ]
    }
   ],
   "source": [
    "scores_mean_descend=importances[indices][::-1]\n",
    "print('AdaBoost標準化前特徵重要度排序前10名：')\n",
    "for i in range(10):\n",
    "    print('第', i+1, '名')\n",
    "    print(std_important_feature_sort_descend[i])\n",
    "    print(scores_mean_descend[i])"
   ]
  },
  {
   "cell_type": "code",
   "execution_count": 469,
   "id": "688920b2",
   "metadata": {},
   "outputs": [
    {
     "name": "stdout",
     "output_type": "stream",
     "text": [
      "標準化後的特徵重要度排序: ['worst smoothness' 'worst texture' 'mean concave points' 'area error'\n",
      " 'mean texture' 'mean compactness' 'fractal dimension error'\n",
      " 'worst perimeter' 'symmetry error' 'worst concave points'\n",
      " 'worst concavity' 'worst area' 'worst symmetry' 'compactness error'\n",
      " 'worst fractal dimension' 'mean smoothness' 'mean symmetry' 'mean area'\n",
      " 'radius error' 'mean concavity' 'smoothness error'\n",
      " 'mean fractal dimension' 'texture error' 'perimeter error'\n",
      " 'concavity error' 'concave points error' 'worst radius' 'mean perimeter'\n",
      " 'worst compactness' 'mean radius']\n",
      "標準化前的特徵重要度排序: ['worst smoothness' 'worst texture' 'mean concave points' 'area error'\n",
      " 'mean texture' 'mean compactness' 'fractal dimension error'\n",
      " 'worst perimeter' 'symmetry error' 'worst concave points'\n",
      " 'worst concavity' 'worst area' 'worst symmetry' 'compactness error'\n",
      " 'worst fractal dimension' 'mean smoothness' 'mean symmetry' 'mean area'\n",
      " 'radius error' 'mean concavity' 'smoothness error'\n",
      " 'mean fractal dimension' 'texture error' 'perimeter error'\n",
      " 'concavity error' 'concave points error' 'worst radius' 'mean perimeter'\n",
      " 'worst compactness' 'mean radius']\n",
      "[]\n"
     ]
    }
   ],
   "source": [
    "print('標準化後的特徵重要度排序:',std_important_feature_sort_descend)\n",
    "print('標準化前的特徵重要度排序:',important_feature_sort_descend)\n",
    "\n",
    "differences=np.where(important_feature_sort_descend!=std_important_feature_sort_descend)[0]\n",
    "print(differences)\n"
   ]
  },
  {
   "cell_type": "code",
   "execution_count": 470,
   "id": "f0355a9e",
   "metadata": {},
   "outputs": [
    {
     "data": {
      "text/plain": [
       "'\\nAdaBoost的核心思想是根據先前分類器的錯誤來加權訓練數據，以便下一個分類器可以更好地處理錯誤分類的樣本。\\n這種加權過程可以讓AdaBoost在處理非線性、不平衡或具有噪聲的數據時表現出很強的魯棒性。\\nAdaBoost本身不要求對數據進行標準化或縮放，但根據具體情況和數據特點，雖然\\n可以選擇在訓練之前對數據進行適當的標準化或縮放操作，以獲得更好的結果。\\n然對於該breast cancer數據判斷良性或惡性腫瘤而言，數據是否標準化並不影響AdaBoost對特徵的重要度排序。\\n'"
      ]
     },
     "execution_count": 470,
     "metadata": {},
     "output_type": "execute_result"
    }
   ],
   "source": [
    "'''\n",
    "AdaBoost的核心思想是根據先前分類器的錯誤來加權訓練數據，以便下一個分類器可以更好地處理錯誤分類的樣本。\n",
    "這種加權過程可以讓AdaBoost在處理非線性、不平衡或具有噪聲的數據時表現出很強的魯棒性。\n",
    "AdaBoost本身不要求對數據進行標準化或縮放，但根據具體情況和數據特點，雖然\n",
    "可以選擇在訓練之前對數據進行適當的標準化或縮放操作，以獲得更好的結果。\n",
    "然對於該breast cancer數據判斷良性或惡性腫瘤而言，數據是否標準化並不影響AdaBoost對特徵的重要度排序。\n",
    "'''"
   ]
  },
  {
   "cell_type": "code",
   "execution_count": 471,
   "id": "b68e96b1",
   "metadata": {},
   "outputs": [
    {
     "name": "stdout",
     "output_type": "stream",
     "text": [
      "['worst smoothness' 'worst texture' 'mean concave points' 'area error'\n",
      " 'mean texture' 'mean compactness' 'fractal dimension error'\n",
      " 'worst perimeter' 'symmetry error' 'worst concave points'\n",
      " 'worst concavity' 'worst area' 'worst symmetry' 'compactness error'\n",
      " 'worst fractal dimension' 'mean smoothness' 'mean symmetry' 'mean area'\n",
      " 'radius error' 'mean concavity' 'smoothness error'\n",
      " 'mean fractal dimension' 'texture error' 'perimeter error'\n",
      " 'concavity error' 'concave points error' 'worst radius' 'mean perimeter'\n",
      " 'worst compactness' 'mean radius']\n"
     ]
    }
   ],
   "source": [
    "#AdaBoost演算法的特徵重要度排序\n",
    "AdaBoost_feature=important_feature_sort_descend\n",
    "print(AdaBoost_feature)"
   ]
  },
  {
   "cell_type": "code",
   "execution_count": null,
   "id": "d1849277",
   "metadata": {},
   "outputs": [],
   "source": []
  },
  {
   "cell_type": "code",
   "execution_count": null,
   "id": "487f49d4",
   "metadata": {},
   "outputs": [],
   "source": []
  },
  {
   "cell_type": "code",
   "execution_count": null,
   "id": "ce894702",
   "metadata": {},
   "outputs": [],
   "source": []
  },
  {
   "cell_type": "code",
   "execution_count": 472,
   "id": "cc434cca",
   "metadata": {},
   "outputs": [
    {
     "name": "stdout",
     "output_type": "stream",
     "text": [
      "     mean radius  mean texture  mean perimeter  mean area  mean smoothness  \\\n",
      "567     1.838341      2.336457        1.982524   1.735218         1.525767   \n",
      "295    -0.101476     -1.400813       -0.161014  -0.205313        -0.311725   \n",
      "91      0.352947      0.807574        0.339035   0.208504        -0.310301   \n",
      "1       1.829821     -0.353632        1.685955   1.908708        -0.826962   \n",
      "94      0.264902      0.125743        0.343154   0.144227         0.536567   \n",
      "\n",
      "     mean compactness  mean concavity  mean concave points  mean symmetry  \\\n",
      "567          3.272144        3.296944             2.658866       2.137194   \n",
      "295         -0.798444       -0.981414            -0.767349      -0.801815   \n",
      "91          -0.014043        0.293795             0.668344      -0.345447   \n",
      "1           -0.487072       -0.023846             0.548144       0.001392   \n",
      "94           0.965749        1.019472             1.011920       0.158383   \n",
      "\n",
      "     mean fractal dimension  radius error  texture error  perimeter error  \\\n",
      "567                1.043695      1.157935       0.686088         1.438530   \n",
      "295               -0.521339     -0.671573      -0.947547        -0.686637   \n",
      "91                -0.259083     -0.333029      -0.681383        -0.391599   \n",
      "1                 -0.868652      0.499255      -0.876244         0.263327   \n",
      "94                 0.006009      0.258520      -0.458037         0.415796   \n",
      "\n",
      "     area error  smoothness error  compactness error  concavity error  \\\n",
      "567    1.009503         -0.173000           2.017716         1.302285   \n",
      "295   -0.497174         -0.897696          -0.968294        -0.915854   \n",
      "91    -0.239754          0.947045          -0.058021         0.444844   \n",
      "1      0.742402         -0.605351          -0.692926        -0.440780   \n",
      "94     0.149676          0.736370           0.652335         0.556252   \n",
      "\n",
      "     concave points error  symmetry error  fractal dimension error  \\\n",
      "567              0.785721        0.326634                 0.904057   \n",
      "295             -0.805718        0.120800                -0.753819   \n",
      "91               0.946309        0.504619                -0.625213   \n",
      "1                0.260162       -0.805450                -0.099444   \n",
      "94               1.089053       -0.673475                -0.103983   \n",
      "\n",
      "     worst radius  worst texture  worst perimeter  worst area  \\\n",
      "567      1.961239       2.237926         2.303601    1.653171   \n",
      "295     -0.331164      -1.424431        -0.389933   -0.385832   \n",
      "91       0.033301       0.026507         0.007112   -0.087339   \n",
      "1        1.805927      -0.369203         1.535126    1.890489   \n",
      "94       0.406050      -0.235671         0.483686    0.253872   \n",
      "\n",
      "     worst smoothness  worst compactness  worst concavity  \\\n",
      "567          1.430427           3.904848         3.197605   \n",
      "295         -0.673696          -0.935539        -1.126787   \n",
      "91          -0.292324          -0.347110         0.059545   \n",
      "1           -0.375612          -0.430444        -0.146749   \n",
      "94           0.996451           1.056214         1.190321   \n",
      "\n",
      "     worst concave points  worst symmetry  worst fractal dimension  \n",
      "567              2.289985        1.919083                 2.219635  \n",
      "295             -0.861616       -0.125792                -0.886975  \n",
      "91               0.502383       -0.557739                -0.868134  \n",
      "1                1.087084       -0.243890                 0.281190  \n",
      "94               1.475363       -0.107996                -0.088988  \n"
     ]
    },
    {
     "data": {
      "text/plain": [
       "(455, 30)"
      ]
     },
     "execution_count": 472,
     "metadata": {},
     "output_type": "execute_result"
    }
   ],
   "source": [
    "#測試RandomForestClassifier,進行標準化前後是否影響特徵重要度排序\n",
    "#先測試標準化後數據的特徵重要度排序\n",
    "\n",
    "X_train_std,X_test_std,y_train_std,y_test_std=train_test_split(X_std,y,test_size=0.2,random_state=10)\n",
    "print(X_train_std.head())\n",
    "X_train_std.shape"
   ]
  },
  {
   "cell_type": "code",
   "execution_count": 473,
   "id": "13c524b8",
   "metadata": {},
   "outputs": [
    {
     "name": "stdout",
     "output_type": "stream",
     "text": [
      "training score: 1.0\n",
      "test score: 0.9824561403508771\n"
     ]
    }
   ],
   "source": [
    "from sklearn.ensemble import RandomForestClassifier\n",
    "\n",
    "forest_std = RandomForestClassifier(criterion='entropy', n_estimators=100,random_state=0,n_jobs=10)\n",
    "forest_std.fit(X_train_std,y_train_std)\n",
    "pred_std = forest_std.predict(X_test_std)\n",
    "\n",
    "print('training score:',forest_std.score(X_train_std,y_train_std))\n",
    "print('test score:',forest_std.score(X_test_std,y_test_std))\n"
   ]
  },
  {
   "cell_type": "code",
   "execution_count": 474,
   "id": "342c72b9",
   "metadata": {},
   "outputs": [
    {
     "name": "stdout",
     "output_type": "stream",
     "text": [
      "[[39  0]\n",
      " [ 2 73]]\n",
      "              precision    recall  f1-score   support\n",
      "\n",
      "           0       0.95      1.00      0.97        39\n",
      "           1       1.00      0.97      0.99        75\n",
      "\n",
      "    accuracy                           0.98       114\n",
      "   macro avg       0.98      0.99      0.98       114\n",
      "weighted avg       0.98      0.98      0.98       114\n",
      "\n"
     ]
    }
   ],
   "source": [
    "print(confusion_matrix(y_test_std,pred_std))\n",
    "print(classification_report(y_test,pred_std))"
   ]
  },
  {
   "cell_type": "code",
   "execution_count": 475,
   "id": "a82745ef",
   "metadata": {},
   "outputs": [
    {
     "name": "stdout",
     "output_type": "stream",
     "text": [
      "Fold 1: 0.9473684210526315\n",
      "Fold 2: 0.9298245614035088\n",
      "Fold 3: 0.9912280701754386\n",
      "Fold 4: 0.9736842105263158\n",
      "Fold 5: 0.9734513274336283\n",
      "Mean Score: 0.9631113181183046\n"
     ]
    }
   ],
   "source": [
    "scores = cross_val_score(forest_std, X_std, y, cv=5)\n",
    "\n",
    "for fold, score in enumerate(scores, 1):\n",
    "    print(f\"Fold {fold}: {score}\")\n",
    "    \n",
    "print(\"Mean Score:\", scores.mean())"
   ]
  },
  {
   "cell_type": "code",
   "execution_count": 476,
   "id": "400e872f",
   "metadata": {},
   "outputs": [
    {
     "name": "stdout",
     "output_type": "stream",
     "text": [
      "[0.04, 0.02, 0.07, 0.05, 0.01, 0.01, 0.05, 0.07, 0.0, 0.0, 0.02, 0.01, 0.01, 0.04, 0.0, 0.0, 0.01, 0.01, 0.01, 0.0, 0.11, 0.02, 0.17, 0.07, 0.02, 0.01, 0.02, 0.12, 0.01, 0.01]\n",
      "[ 8 14 19  9 15 17 16 11  4 18 12 25 29  5 28 24 10  1 26 21 13  0  3  6\n",
      "  2  7 23 20 27 22]\n"
     ]
    }
   ],
   "source": [
    "importances_std = forest_std.feature_importances_\n",
    "importances_std_formatted_array = [round(num, 2) for num in importances_std]\n",
    "print(importances_std_formatted_array)\n",
    "indices_std = np.argsort(importances_std)  #np.argsort :Returns the indices that would sort an array.\n",
    "print(indices_std)"
   ]
  },
  {
   "cell_type": "code",
   "execution_count": 477,
   "id": "66d04012",
   "metadata": {},
   "outputs": [
    {
     "name": "stdout",
     "output_type": "stream",
     "text": [
      "特徵重要度排序：\n",
      "['worst perimeter' 'worst concave points' 'worst radius' 'worst area'\n",
      " 'mean concave points' 'mean perimeter' 'mean concavity' 'mean area'\n",
      " 'mean radius' 'area error' 'worst texture' 'worst concavity'\n",
      " 'mean texture' 'radius error' 'worst smoothness' 'worst symmetry'\n",
      " 'mean compactness' 'worst fractal dimension' 'worst compactness'\n",
      " 'perimeter error' 'symmetry error' 'mean smoothness' 'texture error'\n",
      " 'concavity error' 'concave points error' 'compactness error'\n",
      " 'mean fractal dimension' 'fractal dimension error' 'smoothness error'\n",
      " 'mean symmetry']\n"
     ]
    }
   ],
   "source": [
    "std_important_feature_sort_ascend=breast_cancer.feature_names[indices_std]\n",
    "std_important_feature_sort_descend=std_important_feature_sort_ascend[::-1]\n",
    "\n",
    "print('特徵重要度排序：')\n",
    "print(std_important_feature_sort_descend)"
   ]
  },
  {
   "cell_type": "code",
   "execution_count": 478,
   "id": "6ca42396",
   "metadata": {},
   "outputs": [
    {
     "name": "stdout",
     "output_type": "stream",
     "text": [
      "RandomForestClassifier標準化後特徵重要度排序前10名：\n",
      "第 1 名\n",
      "worst perimeter\n",
      "0.17351898987710243\n",
      "第 2 名\n",
      "worst concave points\n",
      "0.12122546127957205\n",
      "第 3 名\n",
      "worst radius\n",
      "0.10904512014019425\n",
      "第 4 名\n",
      "worst area\n",
      "0.07300596244768266\n",
      "第 5 名\n",
      "mean concave points\n",
      "0.07186697208262177\n",
      "第 6 名\n",
      "mean perimeter\n",
      "0.07171383430487879\n",
      "第 7 名\n",
      "mean concavity\n",
      "0.05435985721864484\n",
      "第 8 名\n",
      "mean area\n",
      "0.04625303010225377\n",
      "第 9 名\n",
      "mean radius\n",
      "0.037430642075498656\n",
      "第 10 名\n",
      "area error\n",
      "0.03560738826235755\n"
     ]
    }
   ],
   "source": [
    "scores_mean_descend=importances_std[indices_std][::-1]\n",
    "print('RandomForestClassifier標準化後特徵重要度排序前10名：')\n",
    "for i in range(10):\n",
    "    print('第', i+1, '名')\n",
    "    print(std_important_feature_sort_descend[i])\n",
    "    print(scores_mean_descend[i])"
   ]
  },
  {
   "cell_type": "code",
   "execution_count": null,
   "id": "9d0d7ab5",
   "metadata": {},
   "outputs": [],
   "source": []
  },
  {
   "cell_type": "code",
   "execution_count": null,
   "id": "9d50038f",
   "metadata": {},
   "outputs": [],
   "source": []
  },
  {
   "cell_type": "code",
   "execution_count": 479,
   "id": "5288ad2b",
   "metadata": {},
   "outputs": [
    {
     "name": "stdout",
     "output_type": "stream",
     "text": [
      "     mean radius  mean texture  mean perimeter  mean area  mean smoothness  \\\n",
      "567        20.60         29.33          140.10     1265.0          0.11780   \n",
      "295        13.77         13.27           88.06      582.7          0.09198   \n",
      "91         15.37         22.76          100.20      728.2          0.09200   \n",
      "1          20.57         17.77          132.90     1326.0          0.08474   \n",
      "94         15.06         19.83          100.30      705.6          0.10390   \n",
      "\n",
      "     mean compactness  mean concavity  mean concave points  mean symmetry  \\\n",
      "567           0.27700         0.35140              0.15200         0.2397   \n",
      "295           0.06221         0.01063              0.01917         0.1592   \n",
      "91            0.10360         0.11220              0.07483         0.1717   \n",
      "1             0.07864         0.08690              0.07017         0.1812   \n",
      "94            0.15530         0.17000              0.08815         0.1855   \n",
      "\n",
      "     mean fractal dimension  radius error  texture error  perimeter error  \\\n",
      "567                 0.07016        0.7260         1.5950            5.772   \n",
      "295                 0.05912        0.2191         0.6946            1.479   \n",
      "91                  0.06097        0.3129         0.8413            2.075   \n",
      "1                   0.05667        0.5435         0.7339            3.398   \n",
      "94                  0.06284        0.4768         0.9644            3.706   \n",
      "\n",
      "     area error  smoothness error  compactness error  concavity error  \\\n",
      "567       86.22          0.006522           0.061580         0.071170   \n",
      "295       17.74          0.004348           0.008153         0.004272   \n",
      "91        29.44          0.009882           0.024440         0.045310   \n",
      "1         74.08          0.005225           0.013080         0.018600   \n",
      "94        47.14          0.009250           0.037150         0.048670   \n",
      "\n",
      "     concave points error  symmetry error  fractal dimension error  \\\n",
      "567              0.016640         0.02324                 0.006185   \n",
      "295              0.006829         0.02154                 0.001802   \n",
      "91               0.017630         0.02471                 0.002142   \n",
      "1                0.013400         0.01389                 0.003532   \n",
      "94               0.018510         0.01498                 0.003520   \n",
      "\n",
      "     worst radius  worst texture  worst perimeter  worst area  \\\n",
      "567         25.74          39.42           184.60      1821.0   \n",
      "295         14.67          16.93            94.17       661.1   \n",
      "91          16.43          25.84           107.50       830.9   \n",
      "1           24.99          23.41           158.80      1956.0   \n",
      "94          18.23          24.23           123.50      1025.0   \n",
      "\n",
      "     worst smoothness  worst compactness  worst concavity  \\\n",
      "567            0.1650             0.8681          0.93870   \n",
      "295            0.1170             0.1072          0.03732   \n",
      "91             0.1257             0.1997          0.28460   \n",
      "1              0.1238             0.1866          0.24160   \n",
      "94             0.1551             0.4203          0.52030   \n",
      "\n",
      "     worst concave points  worst symmetry  worst fractal dimension  \n",
      "567               0.26500          0.4087                  0.12400  \n",
      "295               0.05802          0.2823                  0.06794  \n",
      "91                0.14760          0.2556                  0.06828  \n",
      "1                 0.18600          0.2750                  0.08902  \n",
      "94                0.21150          0.2834                  0.08234  \n"
     ]
    },
    {
     "data": {
      "text/plain": [
       "(455, 30)"
      ]
     },
     "execution_count": 479,
     "metadata": {},
     "output_type": "execute_result"
    }
   ],
   "source": [
    "#不使用標準化，測試特徵重要度排序是否相同\n",
    "\n",
    "X_train,X_test,y_train,y_test=train_test_split(X,y,test_size=0.2,random_state=10)\n",
    "\n",
    "print(X_train.head())\n",
    "X_train.shape"
   ]
  },
  {
   "cell_type": "code",
   "execution_count": 480,
   "id": "3ed79623",
   "metadata": {},
   "outputs": [
    {
     "name": "stdout",
     "output_type": "stream",
     "text": [
      "training score: 1.0\n",
      "test score: 0.9824561403508771\n"
     ]
    }
   ],
   "source": [
    "forest = RandomForestClassifier(criterion='entropy', n_estimators=100,random_state=0,n_jobs=10)\n",
    "forest.fit(X_train,y_train)\n",
    "pred = forest.predict(X_test)\n",
    "\n",
    "print('training score:',forest.score(X_train,y_train))\n",
    "print('test score:',forest.score(X_test,y_test))"
   ]
  },
  {
   "cell_type": "code",
   "execution_count": 481,
   "id": "49f1ad1b",
   "metadata": {},
   "outputs": [
    {
     "name": "stdout",
     "output_type": "stream",
     "text": [
      "[[39  0]\n",
      " [ 2 73]]\n",
      "              precision    recall  f1-score   support\n",
      "\n",
      "           0       0.95      1.00      0.97        39\n",
      "           1       1.00      0.97      0.99        75\n",
      "\n",
      "    accuracy                           0.98       114\n",
      "   macro avg       0.98      0.99      0.98       114\n",
      "weighted avg       0.98      0.98      0.98       114\n",
      "\n"
     ]
    }
   ],
   "source": [
    "print(confusion_matrix(y_test,pred))\n",
    "print(classification_report(y_test,pred))"
   ]
  },
  {
   "cell_type": "code",
   "execution_count": 482,
   "id": "020001f3",
   "metadata": {},
   "outputs": [
    {
     "name": "stdout",
     "output_type": "stream",
     "text": [
      "Fold 1: 0.9473684210526315\n",
      "Fold 2: 0.9298245614035088\n",
      "Fold 3: 0.9912280701754386\n",
      "Fold 4: 0.9736842105263158\n",
      "Fold 5: 0.9734513274336283\n",
      "Mean Score: 0.9631113181183046\n"
     ]
    }
   ],
   "source": [
    "from sklearn.model_selection import cross_val_score\n",
    "\n",
    "scores = cross_val_score(forest, X, y, cv=5)\n",
    "\n",
    "for fold, score in enumerate(scores, 1):\n",
    "    print(f\"Fold {fold}: {score}\")\n",
    "    \n",
    "print(\"Mean Score:\", scores.mean())"
   ]
  },
  {
   "cell_type": "code",
   "execution_count": 483,
   "id": "ea481303",
   "metadata": {},
   "outputs": [
    {
     "name": "stdout",
     "output_type": "stream",
     "text": [
      "[0.04, 0.02, 0.07, 0.05, 0.01, 0.01, 0.05, 0.07, 0.0, 0.0, 0.02, 0.01, 0.01, 0.04, 0.0, 0.0, 0.01, 0.01, 0.01, 0.0, 0.11, 0.02, 0.17, 0.07, 0.02, 0.01, 0.02, 0.12, 0.01, 0.01]\n",
      "[ 8 14 19  9 15 17 16 11  4 18 12 25 29  5 28 24 10  1 26 21 13  0  3  6\n",
      "  2  7 23 20 27 22]\n"
     ]
    }
   ],
   "source": [
    "importances = forest.feature_importances_\n",
    "importances_formatted_array = [round(num, 2) for num in importances]\n",
    "print(importances_formatted_array)\n",
    "indices = np.argsort(importances)  #np.argsort :Returns the indices that would sort an array.\n",
    "print(indices)"
   ]
  },
  {
   "cell_type": "code",
   "execution_count": 484,
   "id": "b98e8d58",
   "metadata": {},
   "outputs": [
    {
     "name": "stdout",
     "output_type": "stream",
     "text": [
      "特徵重要度排序：\n",
      "['worst perimeter' 'worst concave points' 'worst radius' 'worst area'\n",
      " 'mean concave points' 'mean perimeter' 'mean concavity' 'mean area'\n",
      " 'mean radius' 'area error' 'worst texture' 'worst concavity'\n",
      " 'mean texture' 'radius error' 'worst smoothness' 'worst symmetry'\n",
      " 'mean compactness' 'worst fractal dimension' 'worst compactness'\n",
      " 'perimeter error' 'symmetry error' 'mean smoothness' 'texture error'\n",
      " 'concavity error' 'concave points error' 'compactness error'\n",
      " 'mean fractal dimension' 'fractal dimension error' 'smoothness error'\n",
      " 'mean symmetry']\n"
     ]
    }
   ],
   "source": [
    "important_feature_sort_ascend=breast_cancer.feature_names[indices]\n",
    "important_feature_sort_descend=important_feature_sort_ascend[::-1]\n",
    "\n",
    "print('特徵重要度排序：')\n",
    "print(important_feature_sort_descend)"
   ]
  },
  {
   "cell_type": "code",
   "execution_count": 485,
   "id": "d3b8c76d",
   "metadata": {},
   "outputs": [
    {
     "name": "stdout",
     "output_type": "stream",
     "text": [
      "RandomForestClassifier標準化前特徵重要度排序前10名：\n",
      "第 1 名\n",
      "worst perimeter\n",
      "0.17351898987710243\n",
      "第 2 名\n",
      "worst concave points\n",
      "0.12122546127957205\n",
      "第 3 名\n",
      "worst radius\n",
      "0.10904512014019425\n",
      "第 4 名\n",
      "worst area\n",
      "0.07300596244768266\n",
      "第 5 名\n",
      "mean concave points\n",
      "0.07186697208262177\n",
      "第 6 名\n",
      "mean perimeter\n",
      "0.07171383430487879\n",
      "第 7 名\n",
      "mean concavity\n",
      "0.05435985721864484\n",
      "第 8 名\n",
      "mean area\n",
      "0.04625303010225377\n",
      "第 9 名\n",
      "mean radius\n",
      "0.037430642075498656\n",
      "第 10 名\n",
      "area error\n",
      "0.03560738826235755\n"
     ]
    }
   ],
   "source": [
    "scores_mean_descend=importances[indices][::-1]\n",
    "print('RandomForestClassifier標準化前特徵重要度排序前10名：')\n",
    "for i in range(10):\n",
    "    print('第', i+1, '名')\n",
    "    print(std_important_feature_sort_descend[i])\n",
    "    print(scores_mean_descend[i])"
   ]
  },
  {
   "cell_type": "code",
   "execution_count": null,
   "id": "cffea65f",
   "metadata": {},
   "outputs": [],
   "source": []
  },
  {
   "cell_type": "code",
   "execution_count": 486,
   "id": "ee6e194b",
   "metadata": {},
   "outputs": [
    {
     "name": "stdout",
     "output_type": "stream",
     "text": [
      "標準化後的特徵重要度排序: ['worst perimeter' 'worst concave points' 'worst radius' 'worst area'\n",
      " 'mean concave points' 'mean perimeter' 'mean concavity' 'mean area'\n",
      " 'mean radius' 'area error' 'worst texture' 'worst concavity'\n",
      " 'mean texture' 'radius error' 'worst smoothness' 'worst symmetry'\n",
      " 'mean compactness' 'worst fractal dimension' 'worst compactness'\n",
      " 'perimeter error' 'symmetry error' 'mean smoothness' 'texture error'\n",
      " 'concavity error' 'concave points error' 'compactness error'\n",
      " 'mean fractal dimension' 'fractal dimension error' 'smoothness error'\n",
      " 'mean symmetry']\n",
      "標準化前的特徵重要度排序: ['worst perimeter' 'worst concave points' 'worst radius' 'worst area'\n",
      " 'mean concave points' 'mean perimeter' 'mean concavity' 'mean area'\n",
      " 'mean radius' 'area error' 'worst texture' 'worst concavity'\n",
      " 'mean texture' 'radius error' 'worst smoothness' 'worst symmetry'\n",
      " 'mean compactness' 'worst fractal dimension' 'worst compactness'\n",
      " 'perimeter error' 'symmetry error' 'mean smoothness' 'texture error'\n",
      " 'concavity error' 'concave points error' 'compactness error'\n",
      " 'mean fractal dimension' 'fractal dimension error' 'smoothness error'\n",
      " 'mean symmetry']\n",
      "[]\n"
     ]
    }
   ],
   "source": [
    "print('標準化後的特徵重要度排序:',std_important_feature_sort_descend)\n",
    "print('標準化前的特徵重要度排序:',important_feature_sort_descend)\n",
    "\n",
    "differences=np.where(important_feature_sort_descend!=std_important_feature_sort_descend)[0]\n",
    "print(differences)"
   ]
  },
  {
   "cell_type": "code",
   "execution_count": 487,
   "id": "4c323c14",
   "metadata": {},
   "outputs": [
    {
     "data": {
      "text/plain": [
       "'\\n由於RandomForest是基於決策樹的集成模型，決策樹本身對特徵的尺度和範圍不敏感。\\n每個決策樹都獨立地進行特徵分割，而不會受到特徵值的絕對大小的影響。\\nRandomForest本身不要求對數據進行標準化或縮放，但根據具體情況和數據特點，\\n雖然可以選擇在訓練之前對數據進行適當的標準化或縮放操作，以獲得更好的結果。\\n然對於該breast cancer數據判斷良性或惡性腫瘤而言，數據是否標準化並不影響RandomForest對特徵的重要度排序。\\n'"
      ]
     },
     "execution_count": 487,
     "metadata": {},
     "output_type": "execute_result"
    }
   ],
   "source": [
    "'''\n",
    "由於RandomForest是基於決策樹的集成模型，決策樹本身對特徵的尺度和範圍不敏感。\n",
    "每個決策樹都獨立地進行特徵分割，而不會受到特徵值的絕對大小的影響。\n",
    "RandomForest本身不要求對數據進行標準化或縮放，但根據具體情況和數據特點，\n",
    "雖然可以選擇在訓練之前對數據進行適當的標準化或縮放操作，以獲得更好的結果。\n",
    "然對於該breast cancer數據判斷良性或惡性腫瘤而言，數據是否標準化並不影響RandomForest對特徵的重要度排序。\n",
    "'''"
   ]
  },
  {
   "cell_type": "code",
   "execution_count": 488,
   "id": "2365dc31",
   "metadata": {},
   "outputs": [
    {
     "name": "stdout",
     "output_type": "stream",
     "text": [
      "['worst perimeter' 'worst concave points' 'worst radius' 'worst area'\n",
      " 'mean concave points' 'mean perimeter' 'mean concavity' 'mean area'\n",
      " 'mean radius' 'area error' 'worst texture' 'worst concavity'\n",
      " 'mean texture' 'radius error' 'worst smoothness' 'worst symmetry'\n",
      " 'mean compactness' 'worst fractal dimension' 'worst compactness'\n",
      " 'perimeter error' 'symmetry error' 'mean smoothness' 'texture error'\n",
      " 'concavity error' 'concave points error' 'compactness error'\n",
      " 'mean fractal dimension' 'fractal dimension error' 'smoothness error'\n",
      " 'mean symmetry']\n"
     ]
    }
   ],
   "source": [
    "#RandomForest演算法的特徵重要度排序\n",
    "RandomForest_feature=important_feature_sort_descend\n",
    "print(RandomForest_feature)"
   ]
  },
  {
   "cell_type": "code",
   "execution_count": null,
   "id": "e0c222b3",
   "metadata": {},
   "outputs": [],
   "source": []
  },
  {
   "cell_type": "code",
   "execution_count": 489,
   "id": "80ef070b",
   "metadata": {},
   "outputs": [],
   "source": [
    "#比較Adaboost與RandomForest的特徵重要度排序結果"
   ]
  },
  {
   "cell_type": "code",
   "execution_count": 490,
   "id": "7d3fbdda",
   "metadata": {},
   "outputs": [
    {
     "name": "stdout",
     "output_type": "stream",
     "text": [
      "['worst smoothness' 'worst texture' 'mean concave points' 'area error'\n",
      " 'mean texture' 'mean compactness' 'fractal dimension error'\n",
      " 'worst perimeter' 'symmetry error' 'worst concave points'\n",
      " 'worst concavity' 'worst area' 'worst symmetry' 'compactness error'\n",
      " 'worst fractal dimension' 'mean smoothness' 'mean symmetry' 'mean area'\n",
      " 'radius error' 'mean concavity' 'smoothness error'\n",
      " 'mean fractal dimension' 'texture error' 'perimeter error'\n",
      " 'concavity error' 'concave points error' 'worst radius' 'mean perimeter'\n",
      " 'worst compactness' 'mean radius']\n"
     ]
    }
   ],
   "source": [
    "#AdaBoost演算法的特徵重要度排序\n",
    "print(AdaBoost_feature)"
   ]
  },
  {
   "cell_type": "code",
   "execution_count": 491,
   "id": "ccb69d32",
   "metadata": {},
   "outputs": [
    {
     "name": "stdout",
     "output_type": "stream",
     "text": [
      "['worst perimeter' 'worst concave points' 'worst radius' 'worst area'\n",
      " 'mean concave points' 'mean perimeter' 'mean concavity' 'mean area'\n",
      " 'mean radius' 'area error' 'worst texture' 'worst concavity'\n",
      " 'mean texture' 'radius error' 'worst smoothness' 'worst symmetry'\n",
      " 'mean compactness' 'worst fractal dimension' 'worst compactness'\n",
      " 'perimeter error' 'symmetry error' 'mean smoothness' 'texture error'\n",
      " 'concavity error' 'concave points error' 'compactness error'\n",
      " 'mean fractal dimension' 'fractal dimension error' 'smoothness error'\n",
      " 'mean symmetry']\n"
     ]
    }
   ],
   "source": [
    "#RandomForest演算法的特徵重要度排序\n",
    "print(RandomForest_feature)"
   ]
  },
  {
   "cell_type": "code",
   "execution_count": 492,
   "id": "d9a70c11",
   "metadata": {},
   "outputs": [
    {
     "name": "stdout",
     "output_type": "stream",
     "text": [
      "[ 0  1  2  3  4  5  6  7  8  9 10 11 12 13 14 15 16 17 18 19 20 21 23 24\n",
      " 25 26 27 28 29]\n",
      "29\n"
     ]
    }
   ],
   "source": [
    "differences_feature=np.where(AdaBoost_feature!=RandomForest_feature)[0]\n",
    "print(differences_feature)\n",
    "print(len(differences_feature))"
   ]
  },
  {
   "cell_type": "code",
   "execution_count": 493,
   "id": "50135b63",
   "metadata": {},
   "outputs": [
    {
     "data": {
      "text/plain": [
       "'\\n從上述結果可以得知兩者對於特徵重要度的排序具有顯著差異。理由可能如下：\\nAdaBoost傾向於在每個迭代中更關注那些容易被錯誤分類的樣本，\\n因此對於這些特徵的重要度可能更高。\\n而Random Forest通過隨機選擇特徵子集進行訓練，\\n可能會導致特徵的重要度分散在多個決策樹中。\\n由於AdaBoost和Random Forest可能對數據集的特徵敏感程度不同，\\n因此可能產生不同的特徵重要度排序。\\n'"
      ]
     },
     "execution_count": 493,
     "metadata": {},
     "output_type": "execute_result"
    }
   ],
   "source": [
    "'''\n",
    "從上述結果可以得知兩者對於特徵重要度的排序具有顯著差異。理由可能如下：\n",
    "AdaBoost傾向於在每個迭代中更關注那些容易被錯誤分類的樣本，\n",
    "因此對於這些特徵的重要度可能更高。\n",
    "而Random Forest通過隨機選擇特徵子集進行訓練，\n",
    "可能會導致特徵的重要度分散在多個決策樹中。\n",
    "由於AdaBoost和Random Forest可能對數據集的特徵敏感程度不同，\n",
    "因此可能產生不同的特徵重要度排序。\n",
    "'''"
   ]
  },
  {
   "cell_type": "code",
   "execution_count": 494,
   "id": "dd1189d0",
   "metadata": {},
   "outputs": [
    {
     "name": "stdout",
     "output_type": "stream",
     "text": [
      "0           worst smoothness\n",
      "1              worst texture\n",
      "2        mean concave points\n",
      "3                 area error\n",
      "4               mean texture\n",
      "5           mean compactness\n",
      "6    fractal dimension error\n",
      "7            worst perimeter\n",
      "8             symmetry error\n",
      "9       worst concave points\n",
      "dtype: object\n",
      "0         worst perimeter\n",
      "1    worst concave points\n",
      "2            worst radius\n",
      "3              worst area\n",
      "4     mean concave points\n",
      "5          mean perimeter\n",
      "6          mean concavity\n",
      "7               mean area\n",
      "8             mean radius\n",
      "9              area error\n",
      "dtype: object\n",
      "共同的特徵為： ['mean concave points', 'area error', 'worst perimeter', 'worst concave points']\n"
     ]
    }
   ],
   "source": [
    "#在AdaBoost與RandomForest的特徵重要度的排序前10名中，取得共同的特徵\n",
    "\n",
    "AdaBoost_feature=pd.Series(AdaBoost_feature)\n",
    "RandomForest_feature=pd.Series(RandomForest_feature)\n",
    "\n",
    "print(AdaBoost_feature[:10])\n",
    "print(RandomForest_feature[:10])\n",
    "\n",
    "common_indices=AdaBoost_feature[:10].isin(RandomForest_feature[:10])\n",
    "\n",
    "common_elements = AdaBoost_feature[:10][common_indices]\n",
    "common_elements=common_elements.tolist()\n",
    "print('共同的特徵為：',common_elements)"
   ]
  },
  {
   "cell_type": "code",
   "execution_count": 495,
   "id": "8bb3bf44",
   "metadata": {},
   "outputs": [
    {
     "data": {
      "text/plain": [
       "\"\\n在AdaBoost與RandomForest的特徵重要度的排序前10名中，取得共同的特徵為：\\n'mean concave points', 'area error', 'worst perimeter', 'worst concave points'。\\n雖然AdaBoost和Random Forest在特徵重要度排序時使用了不同的算法原理和策略，\\n但仍然有一些共同的特徵被兩種算法都認為是重要的。\\n這些共同的重要特徵可能在數據集中具有較高的信息量和重要性，\\n並且在不同算法中的表現相對穩定，並且可能具有更廣泛的預測能力。\\n\""
      ]
     },
     "execution_count": 495,
     "metadata": {},
     "output_type": "execute_result"
    }
   ],
   "source": [
    "'''\n",
    "在AdaBoost與RandomForest的特徵重要度的排序前10名中，取得共同的特徵為：\n",
    "'mean concave points', 'area error', 'worst perimeter', 'worst concave points'。\n",
    "雖然AdaBoost和Random Forest在特徵重要度排序時使用了不同的算法原理和策略，\n",
    "但仍然有一些共同的特徵被兩種算法都認為是重要的。\n",
    "這些共同的重要特徵可能在數據集中具有較高的信息量和重要性，\n",
    "並且在不同算法中的表現相對穩定，並且可能具有更廣泛的預測能力。\n",
    "'''"
   ]
  },
  {
   "cell_type": "code",
   "execution_count": 496,
   "id": "fdd72acf",
   "metadata": {},
   "outputs": [
    {
     "name": "stdout",
     "output_type": "stream",
     "text": [
      "     mean radius  mean texture  mean perimeter  mean area  mean smoothness  \\\n",
      "567     1.838341      2.336457        1.982524   1.735218         1.525767   \n",
      "295    -0.101476     -1.400813       -0.161014  -0.205313        -0.311725   \n",
      "91      0.352947      0.807574        0.339035   0.208504        -0.310301   \n",
      "1       1.829821     -0.353632        1.685955   1.908708        -0.826962   \n",
      "94      0.264902      0.125743        0.343154   0.144227         0.536567   \n",
      "\n",
      "     mean compactness  mean concavity  mean concave points  mean symmetry  \\\n",
      "567          3.272144        3.296944             2.658866       2.137194   \n",
      "295         -0.798444       -0.981414            -0.767349      -0.801815   \n",
      "91          -0.014043        0.293795             0.668344      -0.345447   \n",
      "1           -0.487072       -0.023846             0.548144       0.001392   \n",
      "94           0.965749        1.019472             1.011920       0.158383   \n",
      "\n",
      "     mean fractal dimension  radius error  texture error  perimeter error  \\\n",
      "567                1.043695      1.157935       0.686088         1.438530   \n",
      "295               -0.521339     -0.671573      -0.947547        -0.686637   \n",
      "91                -0.259083     -0.333029      -0.681383        -0.391599   \n",
      "1                 -0.868652      0.499255      -0.876244         0.263327   \n",
      "94                 0.006009      0.258520      -0.458037         0.415796   \n",
      "\n",
      "     area error  smoothness error  compactness error  concavity error  \\\n",
      "567    1.009503         -0.173000           2.017716         1.302285   \n",
      "295   -0.497174         -0.897696          -0.968294        -0.915854   \n",
      "91    -0.239754          0.947045          -0.058021         0.444844   \n",
      "1      0.742402         -0.605351          -0.692926        -0.440780   \n",
      "94     0.149676          0.736370           0.652335         0.556252   \n",
      "\n",
      "     concave points error  symmetry error  fractal dimension error  \\\n",
      "567              0.785721        0.326634                 0.904057   \n",
      "295             -0.805718        0.120800                -0.753819   \n",
      "91               0.946309        0.504619                -0.625213   \n",
      "1                0.260162       -0.805450                -0.099444   \n",
      "94               1.089053       -0.673475                -0.103983   \n",
      "\n",
      "     worst radius  worst texture  worst perimeter  worst area  \\\n",
      "567      1.961239       2.237926         2.303601    1.653171   \n",
      "295     -0.331164      -1.424431        -0.389933   -0.385832   \n",
      "91       0.033301       0.026507         0.007112   -0.087339   \n",
      "1        1.805927      -0.369203         1.535126    1.890489   \n",
      "94       0.406050      -0.235671         0.483686    0.253872   \n",
      "\n",
      "     worst smoothness  worst compactness  worst concavity  \\\n",
      "567          1.430427           3.904848         3.197605   \n",
      "295         -0.673696          -0.935539        -1.126787   \n",
      "91          -0.292324          -0.347110         0.059545   \n",
      "1           -0.375612          -0.430444        -0.146749   \n",
      "94           0.996451           1.056214         1.190321   \n",
      "\n",
      "     worst concave points  worst symmetry  worst fractal dimension  \n",
      "567              2.289985        1.919083                 2.219635  \n",
      "295             -0.861616       -0.125792                -0.886975  \n",
      "91               0.502383       -0.557739                -0.868134  \n",
      "1                1.087084       -0.243890                 0.281190  \n",
      "94               1.475363       -0.107996                -0.088988  \n"
     ]
    },
    {
     "data": {
      "text/plain": [
       "(455, 30)"
      ]
     },
     "execution_count": 496,
     "metadata": {},
     "output_type": "execute_result"
    }
   ],
   "source": [
    "X_train_std,X_test_std,y_train_std,y_test_std=train_test_split(X_std,y,test_size=0.2,random_state=10)\n",
    "print(X_train_std.head())\n",
    "X_train_std.shape"
   ]
  },
  {
   "cell_type": "code",
   "execution_count": 497,
   "id": "7b92f165",
   "metadata": {},
   "outputs": [
    {
     "name": "stdout",
     "output_type": "stream",
     "text": [
      "training score: 0.9868131868131869\n",
      "test score: 0.9649122807017544\n"
     ]
    }
   ],
   "source": [
    "#測試Logistic regression,進行標準化前後是否影響特徵重要度排序\n",
    "#solver='liblinear'：這是一個比較常用的求解器，適用於二分類問題\n",
    "#先測試標準化後數據的特徵重要度排序\n",
    "\n",
    "from sklearn.linear_model import LogisticRegression\n",
    "\n",
    "lr_std = LogisticRegression(solver='liblinear')\n",
    "lr_std.fit(X_train_std, y_train_std)\n",
    "\n",
    "pred_std = lr_std.predict(X_test_std)\n",
    "\n",
    "print('training score:',lr_std.score(X_train_std,y_train_std))\n",
    "print('test score:',lr_std.score(X_test_std,y_test_std))\n",
    "\n"
   ]
  },
  {
   "cell_type": "code",
   "execution_count": 498,
   "id": "c711fd21",
   "metadata": {},
   "outputs": [
    {
     "name": "stdout",
     "output_type": "stream",
     "text": [
      "[[37  2]\n",
      " [ 2 73]]\n",
      "              precision    recall  f1-score   support\n",
      "\n",
      "           0       0.95      0.95      0.95        39\n",
      "           1       0.97      0.97      0.97        75\n",
      "\n",
      "    accuracy                           0.96       114\n",
      "   macro avg       0.96      0.96      0.96       114\n",
      "weighted avg       0.96      0.96      0.96       114\n",
      "\n"
     ]
    }
   ],
   "source": [
    "print(confusion_matrix(y_test_std,pred_std))\n",
    "print(classification_report(y_test,pred_std))"
   ]
  },
  {
   "cell_type": "code",
   "execution_count": 499,
   "id": "db2ca06c",
   "metadata": {},
   "outputs": [
    {
     "name": "stdout",
     "output_type": "stream",
     "text": [
      "Fold 1: 0.9824561403508771\n",
      "Fold 2: 0.9736842105263158\n",
      "Fold 3: 0.9736842105263158\n",
      "Fold 4: 0.9736842105263158\n",
      "Fold 5: 0.9911504424778761\n",
      "Mean Score: 0.9789318428815402\n"
     ]
    }
   ],
   "source": [
    "scores = cross_val_score(lr_std, X_std, y, cv=5)\n",
    "\n",
    "for fold, score in enumerate(scores, 1):\n",
    "    print(f\"Fold {fold}: {score}\")\n",
    "    \n",
    "print(\"Mean Score:\", scores.mean())"
   ]
  },
  {
   "cell_type": "code",
   "execution_count": 500,
   "id": "a1bbf3df",
   "metadata": {},
   "outputs": [
    {
     "data": {
      "text/plain": [
       "'\\n計算特徵重要度：通過計算邏輯回歸模型係數的絕對值來估計特徵的重要度。\\n係數的絕對值表示特徵對目標變量的影響程度，\\n故對係數的絕對值進行排序，以獲得特徵重要度的近似排名。\\n'"
      ]
     },
     "execution_count": 500,
     "metadata": {},
     "output_type": "execute_result"
    }
   ],
   "source": [
    "'''\n",
    "計算特徵重要度：通過計算邏輯回歸模型係數的絕對值來估計特徵的重要度。\n",
    "係數的絕對值表示特徵對目標變量的影響程度，\n",
    "故對係數的絕對值進行排序，以獲得特徵重要度的近似排名。\n",
    "'''"
   ]
  },
  {
   "cell_type": "code",
   "execution_count": 501,
   "id": "c736ece3",
   "metadata": {},
   "outputs": [
    {
     "name": "stdout",
     "output_type": "stream",
     "text": [
      "[0.31, 0.49, 0.31, 0.41, 0.06, 0.44, 0.93, 0.92, 0.21, 0.19, 1.31, 0.16, 0.62, 0.93, 0.26, 1.09, 0.17, 0.43, 0.73, 0.81, 0.95, 1.21, 0.77, 0.94, 0.52, 0.06, 0.9, 0.79, 0.74, 0.5]\n",
      "30\n",
      "[ 4 25 11 16  9  8 14  0  2  3 17  5  1 29 24 12 18 28 22 27 19 26  7 13\n",
      "  6 23 20 15 21 10]\n"
     ]
    }
   ],
   "source": [
    "importances_std = abs(lr_std.coef_[0])\n",
    "importances_std_formatted_array = [round(num, 2) for num in importances_std]\n",
    "print(importances_std_formatted_array)\n",
    "print(len(importances_std_formatted_array))\n",
    "indices_std = np.argsort(importances_std)  #np.argsort :Returns the indices that would sort an array.\n",
    "print(indices_std)"
   ]
  },
  {
   "cell_type": "code",
   "execution_count": 502,
   "id": "0263288b",
   "metadata": {},
   "outputs": [
    {
     "name": "stdout",
     "output_type": "stream",
     "text": [
      "特徵重要度排序：\n",
      "['radius error' 'worst texture' 'compactness error' 'worst radius'\n",
      " 'worst area' 'mean concavity' 'area error' 'mean concave points'\n",
      " 'worst concavity' 'fractal dimension error' 'worst concave points'\n",
      " 'worst perimeter' 'worst symmetry' 'symmetry error' 'perimeter error'\n",
      " 'worst smoothness' 'worst fractal dimension' 'mean texture'\n",
      " 'mean compactness' 'concave points error' 'mean area' 'mean perimeter'\n",
      " 'mean radius' 'smoothness error' 'mean symmetry' 'mean fractal dimension'\n",
      " 'concavity error' 'texture error' 'worst compactness' 'mean smoothness']\n"
     ]
    }
   ],
   "source": [
    "std_important_feature_sort_ascend=breast_cancer.feature_names[indices_std]\n",
    "std_important_feature_sort_descend=std_important_feature_sort_ascend[::-1]\n",
    "\n",
    "print('特徵重要度排序：')\n",
    "print(std_important_feature_sort_descend)"
   ]
  },
  {
   "cell_type": "code",
   "execution_count": 503,
   "id": "f67897fe",
   "metadata": {},
   "outputs": [
    {
     "name": "stdout",
     "output_type": "stream",
     "text": [
      "Logistic regression標準化後特徵重要度排序前10名：\n",
      "第 1 名\n",
      "radius error\n",
      "1.3128092363552692\n",
      "第 2 名\n",
      "worst texture\n",
      "1.2093912738530388\n",
      "第 3 名\n",
      "compactness error\n",
      "1.0917895189643927\n",
      "第 4 名\n",
      "worst radius\n",
      "0.9541058179942675\n",
      "第 5 名\n",
      "worst area\n",
      "0.9411564471744772\n",
      "第 6 名\n",
      "mean concavity\n",
      "0.9326030633555452\n",
      "第 7 名\n",
      "area error\n",
      "0.92878123031847\n",
      "第 8 名\n",
      "mean concave points\n",
      "0.9208500758706084\n",
      "第 9 名\n",
      "worst concavity\n",
      "0.9017702893656258\n",
      "第 10 名\n",
      "fractal dimension error\n",
      "0.8077089759718497\n"
     ]
    }
   ],
   "source": [
    "scores_mean_descend=importances_std[indices_std][::-1]\n",
    "print('Logistic regression標準化後特徵重要度排序前10名：')\n",
    "for i in range(10):\n",
    "    print('第', i+1, '名')\n",
    "    print(std_important_feature_sort_descend[i])\n",
    "    print(scores_mean_descend[i])"
   ]
  },
  {
   "cell_type": "code",
   "execution_count": null,
   "id": "72bcbe1b",
   "metadata": {},
   "outputs": [],
   "source": []
  },
  {
   "cell_type": "code",
   "execution_count": null,
   "id": "73f4b0f1",
   "metadata": {},
   "outputs": [],
   "source": []
  },
  {
   "cell_type": "code",
   "execution_count": 504,
   "id": "f26b68ec",
   "metadata": {},
   "outputs": [
    {
     "name": "stdout",
     "output_type": "stream",
     "text": [
      "     mean radius  mean texture  mean perimeter  mean area  mean smoothness  \\\n",
      "567        20.60         29.33          140.10     1265.0          0.11780   \n",
      "295        13.77         13.27           88.06      582.7          0.09198   \n",
      "91         15.37         22.76          100.20      728.2          0.09200   \n",
      "1          20.57         17.77          132.90     1326.0          0.08474   \n",
      "94         15.06         19.83          100.30      705.6          0.10390   \n",
      "\n",
      "     mean compactness  mean concavity  mean concave points  mean symmetry  \\\n",
      "567           0.27700         0.35140              0.15200         0.2397   \n",
      "295           0.06221         0.01063              0.01917         0.1592   \n",
      "91            0.10360         0.11220              0.07483         0.1717   \n",
      "1             0.07864         0.08690              0.07017         0.1812   \n",
      "94            0.15530         0.17000              0.08815         0.1855   \n",
      "\n",
      "     mean fractal dimension  radius error  texture error  perimeter error  \\\n",
      "567                 0.07016        0.7260         1.5950            5.772   \n",
      "295                 0.05912        0.2191         0.6946            1.479   \n",
      "91                  0.06097        0.3129         0.8413            2.075   \n",
      "1                   0.05667        0.5435         0.7339            3.398   \n",
      "94                  0.06284        0.4768         0.9644            3.706   \n",
      "\n",
      "     area error  smoothness error  compactness error  concavity error  \\\n",
      "567       86.22          0.006522           0.061580         0.071170   \n",
      "295       17.74          0.004348           0.008153         0.004272   \n",
      "91        29.44          0.009882           0.024440         0.045310   \n",
      "1         74.08          0.005225           0.013080         0.018600   \n",
      "94        47.14          0.009250           0.037150         0.048670   \n",
      "\n",
      "     concave points error  symmetry error  fractal dimension error  \\\n",
      "567              0.016640         0.02324                 0.006185   \n",
      "295              0.006829         0.02154                 0.001802   \n",
      "91               0.017630         0.02471                 0.002142   \n",
      "1                0.013400         0.01389                 0.003532   \n",
      "94               0.018510         0.01498                 0.003520   \n",
      "\n",
      "     worst radius  worst texture  worst perimeter  worst area  \\\n",
      "567         25.74          39.42           184.60      1821.0   \n",
      "295         14.67          16.93            94.17       661.1   \n",
      "91          16.43          25.84           107.50       830.9   \n",
      "1           24.99          23.41           158.80      1956.0   \n",
      "94          18.23          24.23           123.50      1025.0   \n",
      "\n",
      "     worst smoothness  worst compactness  worst concavity  \\\n",
      "567            0.1650             0.8681          0.93870   \n",
      "295            0.1170             0.1072          0.03732   \n",
      "91             0.1257             0.1997          0.28460   \n",
      "1              0.1238             0.1866          0.24160   \n",
      "94             0.1551             0.4203          0.52030   \n",
      "\n",
      "     worst concave points  worst symmetry  worst fractal dimension  \n",
      "567               0.26500          0.4087                  0.12400  \n",
      "295               0.05802          0.2823                  0.06794  \n",
      "91                0.14760          0.2556                  0.06828  \n",
      "1                 0.18600          0.2750                  0.08902  \n",
      "94                0.21150          0.2834                  0.08234  \n"
     ]
    },
    {
     "data": {
      "text/plain": [
       "(455, 30)"
      ]
     },
     "execution_count": 504,
     "metadata": {},
     "output_type": "execute_result"
    }
   ],
   "source": [
    "#不使用標準化，測試特徵重要度排序是否相同\n",
    "\n",
    "X_train,X_test,y_train,y_test=train_test_split(X,y,test_size=0.2,random_state=10)\n",
    "\n",
    "print(X_train.head())\n",
    "X_train.shape"
   ]
  },
  {
   "cell_type": "code",
   "execution_count": 505,
   "id": "5bc466d6",
   "metadata": {},
   "outputs": [
    {
     "name": "stdout",
     "output_type": "stream",
     "text": [
      "training score: 1.0\n",
      "test score: 0.9824561403508771\n"
     ]
    }
   ],
   "source": [
    "lr = LogisticRegression(solver='liblinear')\n",
    "lr.fit(X_train,y_train)\n",
    "pred = lr.predict(X_test)\n",
    "\n",
    "print('training score:',forest.score(X_train,y_train))\n",
    "print('test score:',forest.score(X_test,y_test))"
   ]
  },
  {
   "cell_type": "code",
   "execution_count": 506,
   "id": "a733e18c",
   "metadata": {},
   "outputs": [
    {
     "name": "stdout",
     "output_type": "stream",
     "text": [
      "[[37  2]\n",
      " [ 5 70]]\n",
      "              precision    recall  f1-score   support\n",
      "\n",
      "           0       0.88      0.95      0.91        39\n",
      "           1       0.97      0.93      0.95        75\n",
      "\n",
      "    accuracy                           0.94       114\n",
      "   macro avg       0.93      0.94      0.93       114\n",
      "weighted avg       0.94      0.94      0.94       114\n",
      "\n"
     ]
    }
   ],
   "source": [
    "print(confusion_matrix(y_test,pred))\n",
    "print(classification_report(y_test,pred))"
   ]
  },
  {
   "cell_type": "code",
   "execution_count": 507,
   "id": "82cd1983",
   "metadata": {},
   "outputs": [
    {
     "name": "stdout",
     "output_type": "stream",
     "text": [
      "Fold 1: 0.9298245614035088\n",
      "Fold 2: 0.9385964912280702\n",
      "Fold 3: 0.9736842105263158\n",
      "Fold 4: 0.9473684210526315\n",
      "Fold 5: 0.9646017699115044\n",
      "Mean Score: 0.9508150908244062\n"
     ]
    }
   ],
   "source": [
    "from sklearn.model_selection import cross_val_score\n",
    "\n",
    "scores = cross_val_score(lr, X, y, cv=5)\n",
    "\n",
    "for fold, score in enumerate(scores, 1):\n",
    "    print(f\"Fold {fold}: {score}\")\n",
    "    \n",
    "print(\"Mean Score:\", scores.mean())"
   ]
  },
  {
   "cell_type": "code",
   "execution_count": 508,
   "id": "c6f3db42",
   "metadata": {},
   "outputs": [
    {
     "name": "stdout",
     "output_type": "stream",
     "text": [
      "[1.84, 0.13, 0.11, 0.01, 0.13, 0.36, 0.6, 0.3, 0.12, 0.03, 0.04, 0.84, 0.12, 0.1, 0.01, 0.01, 0.05, 0.03, 0.01, 0.01, 0.95, 0.38, 0.13, 0.02, 0.24, 1.02, 1.49, 0.57, 0.39, 0.11]\n",
      "[18 19 14 15  3 23  9 17 10 16 13  2 29 12  8  4  1 22 24  7  5 21 28 27\n",
      "  6 11 20 25 26  0]\n"
     ]
    }
   ],
   "source": [
    "importances = abs(lr.coef_[0])\n",
    "importances_formatted_array = [round(num, 2) for num in importances]\n",
    "print(importances_formatted_array)\n",
    "indices = np.argsort(importances)  #np.argsort :Returns the indices that would sort an array.\n",
    "print(indices)"
   ]
  },
  {
   "cell_type": "code",
   "execution_count": 509,
   "id": "4b2bb0df",
   "metadata": {},
   "outputs": [
    {
     "name": "stdout",
     "output_type": "stream",
     "text": [
      "特徵重要度排序：\n",
      "['mean radius' 'worst concavity' 'worst compactness' 'worst radius'\n",
      " 'texture error' 'mean concavity' 'worst concave points' 'worst symmetry'\n",
      " 'worst texture' 'mean compactness' 'mean concave points'\n",
      " 'worst smoothness' 'worst perimeter' 'mean texture' 'mean smoothness'\n",
      " 'mean symmetry' 'perimeter error' 'worst fractal dimension'\n",
      " 'mean perimeter' 'area error' 'concavity error' 'radius error'\n",
      " 'concave points error' 'mean fractal dimension' 'worst area' 'mean area'\n",
      " 'compactness error' 'smoothness error' 'fractal dimension error'\n",
      " 'symmetry error']\n"
     ]
    }
   ],
   "source": [
    "important_feature_sort_ascend=breast_cancer.feature_names[indices]\n",
    "important_feature_sort_descend=important_feature_sort_ascend[::-1]\n",
    "\n",
    "\n",
    "print('特徵重要度排序：')\n",
    "print(important_feature_sort_descend)"
   ]
  },
  {
   "cell_type": "code",
   "execution_count": 510,
   "id": "cd4ef6a7",
   "metadata": {},
   "outputs": [
    {
     "name": "stdout",
     "output_type": "stream",
     "text": [
      "Logistic regression標準化前特徵重要度排序前10名：\n",
      "第 1 名\n",
      "radius error\n",
      "1.8370763389991198\n",
      "第 2 名\n",
      "worst texture\n",
      "1.4903492186482363\n",
      "第 3 名\n",
      "compactness error\n",
      "1.022618976623101\n",
      "第 4 名\n",
      "worst radius\n",
      "0.9494911392220109\n",
      "第 5 名\n",
      "worst area\n",
      "0.8430861863004296\n",
      "第 6 名\n",
      "mean concavity\n",
      "0.5994587649796344\n",
      "第 7 名\n",
      "area error\n",
      "0.5740699895453317\n",
      "第 8 名\n",
      "mean concave points\n",
      "0.3874161620782656\n",
      "第 9 名\n",
      "worst concavity\n",
      "0.3776120878425882\n",
      "第 10 名\n",
      "fractal dimension error\n",
      "0.36175768875355413\n"
     ]
    }
   ],
   "source": [
    "scores_mean_descend=importances[indices][::-1]\n",
    "print('Logistic regression標準化前特徵重要度排序前10名：')\n",
    "for i in range(10):\n",
    "    print('第', i+1, '名')\n",
    "    print(std_important_feature_sort_descend[i])\n",
    "    print(scores_mean_descend[i])"
   ]
  },
  {
   "cell_type": "code",
   "execution_count": 511,
   "id": "2baaa827",
   "metadata": {},
   "outputs": [
    {
     "name": "stdout",
     "output_type": "stream",
     "text": [
      "標準化後的特徵重要度排序: ['radius error' 'worst texture' 'compactness error' 'worst radius'\n",
      " 'worst area' 'mean concavity' 'area error' 'mean concave points'\n",
      " 'worst concavity' 'fractal dimension error' 'worst concave points'\n",
      " 'worst perimeter' 'worst symmetry' 'symmetry error' 'perimeter error'\n",
      " 'worst smoothness' 'worst fractal dimension' 'mean texture'\n",
      " 'mean compactness' 'concave points error' 'mean area' 'mean perimeter'\n",
      " 'mean radius' 'smoothness error' 'mean symmetry' 'mean fractal dimension'\n",
      " 'concavity error' 'texture error' 'worst compactness' 'mean smoothness']\n",
      "標準化前的特徵重要度排序: ['mean radius' 'worst concavity' 'worst compactness' 'worst radius'\n",
      " 'texture error' 'mean concavity' 'worst concave points' 'worst symmetry'\n",
      " 'worst texture' 'mean compactness' 'mean concave points'\n",
      " 'worst smoothness' 'worst perimeter' 'mean texture' 'mean smoothness'\n",
      " 'mean symmetry' 'perimeter error' 'worst fractal dimension'\n",
      " 'mean perimeter' 'area error' 'concavity error' 'radius error'\n",
      " 'concave points error' 'mean fractal dimension' 'worst area' 'mean area'\n",
      " 'compactness error' 'smoothness error' 'fractal dimension error'\n",
      " 'symmetry error']\n",
      "[ 0  1  2  4  6  7  8  9 10 11 12 13 14 15 16 17 18 19 20 21 22 23 24 25\n",
      " 26 27 28 29]\n"
     ]
    }
   ],
   "source": [
    "print('標準化後的特徵重要度排序:',std_important_feature_sort_descend)\n",
    "print('標準化前的特徵重要度排序:',important_feature_sort_descend)\n",
    "\n",
    "differences=np.where(important_feature_sort_descend!=std_important_feature_sort_descend)[0]\n",
    "print(differences)\n",
    "\n",
    "lr_feature=std_important_feature_sort_descend"
   ]
  },
  {
   "cell_type": "code",
   "execution_count": 512,
   "id": "e6933a33",
   "metadata": {},
   "outputs": [
    {
     "data": {
      "text/plain": [
       "'\\n由於Logistic Regression在進行優化時，求解器（solver）可能對數據的尺度敏感。\\n較大尺度的特徵可能會對結果產生更大的影響，這可能導致在特徵重要度排序中給予較大尺度的特徵更高的重要度，\\n從而影響了模型係數的估計結果。這可能會導致特徵重要度排序的不確定性。\\n故未進行數據標準化可能會導致邏輯回歸模型中特徵重要度排序的不同。\\n標準化可以消除特徵尺度的差異，減小噪聲特徵的影響，並提供更穩定的優化過程。\\n'"
      ]
     },
     "execution_count": 512,
     "metadata": {},
     "output_type": "execute_result"
    }
   ],
   "source": [
    "'''\n",
    "由於Logistic Regression在進行優化時，求解器（solver）可能對數據的尺度敏感。\n",
    "較大尺度的特徵可能會對結果產生更大的影響，這可能導致在特徵重要度排序中給予較大尺度的特徵更高的重要度，\n",
    "從而影響了模型係數的估計結果。這可能會導致特徵重要度排序的不確定性。\n",
    "故未進行數據標準化可能會導致邏輯回歸模型中特徵重要度排序的不同。\n",
    "標準化可以消除特徵尺度的差異，減小噪聲特徵的影響，並提供更穩定的優化過程。\n",
    "'''"
   ]
  },
  {
   "cell_type": "code",
   "execution_count": 513,
   "id": "785d13cc",
   "metadata": {},
   "outputs": [
    {
     "name": "stdout",
     "output_type": "stream",
     "text": [
      "0               radius error\n",
      "1              worst texture\n",
      "2          compactness error\n",
      "3               worst radius\n",
      "4                 worst area\n",
      "5             mean concavity\n",
      "6                 area error\n",
      "7        mean concave points\n",
      "8            worst concavity\n",
      "9    fractal dimension error\n",
      "dtype: object\n",
      "0             mean radius\n",
      "1         worst concavity\n",
      "2       worst compactness\n",
      "3            worst radius\n",
      "4           texture error\n",
      "5          mean concavity\n",
      "6    worst concave points\n",
      "7          worst symmetry\n",
      "8           worst texture\n",
      "9        mean compactness\n",
      "dtype: object\n",
      "共同的特徵為： ['worst texture', 'worst radius', 'mean concavity', 'worst concavity']\n"
     ]
    }
   ],
   "source": [
    "#使用Logistic Regression，在進行標準化前後數據特徵重要度的排序前10名中，取得共同的特徵\n",
    "\n",
    "std_important_feature_sort_descend=pd.Series(std_important_feature_sort_descend)\n",
    "important_feature_sort_descend=pd.Series(important_feature_sort_descend)\n",
    "\n",
    "print(std_important_feature_sort_descend[:10])\n",
    "print(important_feature_sort_descend[:10])\n",
    "\n",
    "common_indices=std_important_feature_sort_descend[:10].isin(important_feature_sort_descend[:10])\n",
    "\n",
    "common_elements = std_important_feature_sort_descend[:10][common_indices]\n",
    "common_elements=common_elements.tolist()\n",
    "print('共同的特徵為：',common_elements)"
   ]
  },
  {
   "cell_type": "code",
   "execution_count": 514,
   "id": "0ef6be4f",
   "metadata": {},
   "outputs": [
    {
     "data": {
      "text/plain": [
       "\"\\n使用Logistic Regression，在進行標準化前後數據特徵重要度的排序前10名中，取得共同的特徵為:\\n'worst texture', 'worst radius', 'mean concavity', 'worst concavity'。\\n這些共同的特徵在標準化前後都被模型認為對目標變量有較高的影響力，\\n並在不同的尺度下都對目標變量的預測能力具有具有較高的重要性和穩定性。\\n\""
      ]
     },
     "execution_count": 514,
     "metadata": {},
     "output_type": "execute_result"
    }
   ],
   "source": [
    "'''\n",
    "使用Logistic Regression，在進行標準化前後數據特徵重要度的排序前10名中，取得共同的特徵為:\n",
    "'worst texture', 'worst radius', 'mean concavity', 'worst concavity'。\n",
    "這些共同的特徵在標準化前後都被模型認為對目標變量有較高的影響力，\n",
    "並在不同的尺度下都對目標變量的預測能力具有具有較高的重要性和穩定性。\n",
    "'''"
   ]
  },
  {
   "cell_type": "code",
   "execution_count": null,
   "id": "d18f7711",
   "metadata": {},
   "outputs": [],
   "source": []
  },
  {
   "cell_type": "code",
   "execution_count": 515,
   "id": "35e310f7",
   "metadata": {},
   "outputs": [],
   "source": [
    "#比較AdaBoost與Logistic Regression的特徵重要度排序結果"
   ]
  },
  {
   "cell_type": "code",
   "execution_count": 516,
   "id": "cd473e20",
   "metadata": {},
   "outputs": [
    {
     "name": "stdout",
     "output_type": "stream",
     "text": [
      "['radius error' 'worst texture' 'compactness error' 'worst radius'\n",
      " 'worst area' 'mean concavity' 'area error' 'mean concave points'\n",
      " 'worst concavity' 'fractal dimension error' 'worst concave points'\n",
      " 'worst perimeter' 'worst symmetry' 'symmetry error' 'perimeter error'\n",
      " 'worst smoothness' 'worst fractal dimension' 'mean texture'\n",
      " 'mean compactness' 'concave points error' 'mean area' 'mean perimeter'\n",
      " 'mean radius' 'smoothness error' 'mean symmetry' 'mean fractal dimension'\n",
      " 'concavity error' 'texture error' 'worst compactness' 'mean smoothness']\n"
     ]
    }
   ],
   "source": [
    "#對於標準化後，Logistic Regression的特徵重要度排名\n",
    "print(lr_feature)"
   ]
  },
  {
   "cell_type": "code",
   "execution_count": 517,
   "id": "8d57fe91",
   "metadata": {},
   "outputs": [
    {
     "name": "stdout",
     "output_type": "stream",
     "text": [
      "0            worst smoothness\n",
      "1               worst texture\n",
      "2         mean concave points\n",
      "3                  area error\n",
      "4                mean texture\n",
      "5            mean compactness\n",
      "6     fractal dimension error\n",
      "7             worst perimeter\n",
      "8              symmetry error\n",
      "9        worst concave points\n",
      "10            worst concavity\n",
      "11                 worst area\n",
      "12             worst symmetry\n",
      "13          compactness error\n",
      "14    worst fractal dimension\n",
      "15            mean smoothness\n",
      "16              mean symmetry\n",
      "17                  mean area\n",
      "18               radius error\n",
      "19             mean concavity\n",
      "20           smoothness error\n",
      "21     mean fractal dimension\n",
      "22              texture error\n",
      "23            perimeter error\n",
      "24            concavity error\n",
      "25       concave points error\n",
      "26               worst radius\n",
      "27             mean perimeter\n",
      "28          worst compactness\n",
      "29                mean radius\n",
      "dtype: object\n"
     ]
    }
   ],
   "source": [
    "#AdaBoost演算法的特徵重要度排序\n",
    "print(AdaBoost_feature)"
   ]
  },
  {
   "cell_type": "code",
   "execution_count": 518,
   "id": "9a7713d1",
   "metadata": {},
   "outputs": [
    {
     "name": "stdout",
     "output_type": "stream",
     "text": [
      "0             worst perimeter\n",
      "1        worst concave points\n",
      "2                worst radius\n",
      "3                  worst area\n",
      "4         mean concave points\n",
      "5              mean perimeter\n",
      "6              mean concavity\n",
      "7                   mean area\n",
      "8                 mean radius\n",
      "9                  area error\n",
      "10              worst texture\n",
      "11            worst concavity\n",
      "12               mean texture\n",
      "13               radius error\n",
      "14           worst smoothness\n",
      "15             worst symmetry\n",
      "16           mean compactness\n",
      "17    worst fractal dimension\n",
      "18          worst compactness\n",
      "19            perimeter error\n",
      "20             symmetry error\n",
      "21            mean smoothness\n",
      "22              texture error\n",
      "23            concavity error\n",
      "24       concave points error\n",
      "25          compactness error\n",
      "26     mean fractal dimension\n",
      "27    fractal dimension error\n",
      "28           smoothness error\n",
      "29              mean symmetry\n",
      "dtype: object\n"
     ]
    }
   ],
   "source": [
    "#RandomForest演算法的特徵重要度排序\n",
    "print(RandomForest_feature)"
   ]
  },
  {
   "cell_type": "code",
   "execution_count": 519,
   "id": "44bf1ebc",
   "metadata": {},
   "outputs": [
    {
     "name": "stdout",
     "output_type": "stream",
     "text": [
      "0           worst smoothness\n",
      "1              worst texture\n",
      "2        mean concave points\n",
      "3                 area error\n",
      "4               mean texture\n",
      "5           mean compactness\n",
      "6    fractal dimension error\n",
      "7            worst perimeter\n",
      "8             symmetry error\n",
      "9       worst concave points\n",
      "dtype: object\n",
      "0               radius error\n",
      "1              worst texture\n",
      "2          compactness error\n",
      "3               worst radius\n",
      "4                 worst area\n",
      "5             mean concavity\n",
      "6                 area error\n",
      "7        mean concave points\n",
      "8            worst concavity\n",
      "9    fractal dimension error\n",
      "dtype: object\n",
      "共同的特徵為： ['worst texture', 'mean concave points', 'area error', 'fractal dimension error']\n"
     ]
    }
   ],
   "source": [
    "#在AdaBoost與Logistic Regression的特徵重要度的排序前10名中，取得共同的特徵\n",
    "\n",
    "AdaBoost_feature=pd.Series(AdaBoost_feature)\n",
    "lr_feature=pd.Series(lr_feature)\n",
    "\n",
    "print(AdaBoost_feature[:10])\n",
    "print(lr_feature[:10])\n",
    "\n",
    "common_indices=AdaBoost_feature[:10].isin(lr_feature[:10])\n",
    "\n",
    "common_elements = AdaBoost_feature[:10][common_indices]\n",
    "common_elements=common_elements.tolist()\n",
    "print('共同的特徵為：',common_elements)\n"
   ]
  },
  {
   "cell_type": "code",
   "execution_count": 520,
   "id": "337145d9",
   "metadata": {},
   "outputs": [
    {
     "name": "stdout",
     "output_type": "stream",
     "text": [
      "0         worst perimeter\n",
      "1    worst concave points\n",
      "2            worst radius\n",
      "3              worst area\n",
      "4     mean concave points\n",
      "5          mean perimeter\n",
      "6          mean concavity\n",
      "7               mean area\n",
      "8             mean radius\n",
      "9              area error\n",
      "dtype: object\n",
      "0               radius error\n",
      "1              worst texture\n",
      "2          compactness error\n",
      "3               worst radius\n",
      "4                 worst area\n",
      "5             mean concavity\n",
      "6                 area error\n",
      "7        mean concave points\n",
      "8            worst concavity\n",
      "9    fractal dimension error\n",
      "dtype: object\n",
      "共同的特徵為： ['worst radius', 'worst area', 'mean concave points', 'mean concavity', 'area error']\n"
     ]
    }
   ],
   "source": [
    "#在RandomForest與Logistic Regression的特徵重要度的排序前10名中，取得共同的特徵\n",
    "\n",
    "RandomForest_feature=pd.Series(RandomForest_feature)\n",
    "lr_feature=pd.Series(lr_feature)\n",
    "\n",
    "print(RandomForest_feature[:10])\n",
    "print(lr_feature[:10])\n",
    "\n",
    "common_indices=RandomForest_feature[:10].isin(lr_feature[:10])\n",
    "\n",
    "common_elements = RandomForest_feature[:10][common_indices]\n",
    "common_elements=common_elements.tolist()\n",
    "print('共同的特徵為：',common_elements)\n"
   ]
  },
  {
   "cell_type": "code",
   "execution_count": 521,
   "id": "5ac132d2",
   "metadata": {},
   "outputs": [
    {
     "name": "stdout",
     "output_type": "stream",
     "text": [
      "0           worst smoothness\n",
      "1              worst texture\n",
      "2        mean concave points\n",
      "3                 area error\n",
      "4               mean texture\n",
      "5           mean compactness\n",
      "6    fractal dimension error\n",
      "7            worst perimeter\n",
      "8             symmetry error\n",
      "9       worst concave points\n",
      "dtype: object\n",
      "0               radius error\n",
      "1              worst texture\n",
      "2          compactness error\n",
      "3               worst radius\n",
      "4                 worst area\n",
      "5             mean concavity\n",
      "6                 area error\n",
      "7        mean concave points\n",
      "8            worst concavity\n",
      "9    fractal dimension error\n",
      "dtype: object\n",
      "0         worst perimeter\n",
      "1    worst concave points\n",
      "2            worst radius\n",
      "3              worst area\n",
      "4     mean concave points\n",
      "5          mean perimeter\n",
      "6          mean concavity\n",
      "7               mean area\n",
      "8             mean radius\n",
      "9              area error\n",
      "dtype: object\n",
      "三者共同的特徵為： ['mean concave points', 'area error']\n"
     ]
    }
   ],
   "source": [
    "#在AdaBoost、RandomForest與Logistic Regression的特徵重要度的排序前10名中，取得共同的特徵\n",
    "\n",
    "AdaBoost_feature=pd.Series(AdaBoost_feature)\n",
    "lr_feature=pd.Series(lr_feature)\n",
    "RandomForest_feature=pd.Series(RandomForest_feature)\n",
    "\n",
    "print(AdaBoost_feature[:10])\n",
    "print(lr_feature[:10])\n",
    "print(RandomForest_feature[:10])\n",
    "\n",
    "common_indices_1=AdaBoost_feature[:10].isin(lr_feature[:10])\n",
    "common_elements_1 = AdaBoost_feature[:10][common_indices_1]\n",
    "common_elements_1=common_elements_1.tolist()\n",
    "\n",
    "common_indices_2=RandomForest_feature[:10].isin(common_elements_1)\n",
    "common_elements_2 = RandomForest_feature[:10][common_indices_2]\n",
    "common_elements_2=common_elements_2.tolist()\n",
    "\n",
    "\n",
    "print('三者共同的特徵為：',common_elements_2)\n",
    "\n"
   ]
  },
  {
   "cell_type": "code",
   "execution_count": 522,
   "id": "c3979f8b",
   "metadata": {},
   "outputs": [
    {
     "data": {
      "text/plain": [
       "\"\\n在AdaBoost、Random Forest和Logistic Regression的特徵重要度的排序前10名中，取得共同的特徵為：\\n'mean concave points', 'area error。\\n這些共同的特徵在不同的模型中都被認為對目標變量的預測具有高信息量。\\n它們可能包含了對目標變量有重要解釋的關鍵因素和特徵。\\n\""
      ]
     },
     "execution_count": 522,
     "metadata": {},
     "output_type": "execute_result"
    }
   ],
   "source": [
    "'''\n",
    "在AdaBoost、Random Forest和Logistic Regression的特徵重要度的排序前10名中，取得共同的特徵為：\n",
    "'mean concave points', 'area error。\n",
    "這些共同的特徵在不同的模型中都被認為對目標變量的預測具有高信息量。\n",
    "它們可能包含了對目標變量有重要解釋的關鍵因素和特徵。\n",
    "'''"
   ]
  },
  {
   "cell_type": "code",
   "execution_count": null,
   "id": "b8b2d004",
   "metadata": {},
   "outputs": [],
   "source": []
  },
  {
   "cell_type": "code",
   "execution_count": null,
   "id": "63d9ca5f",
   "metadata": {},
   "outputs": [],
   "source": []
  },
  {
   "cell_type": "code",
   "execution_count": 523,
   "id": "b284d7b3",
   "metadata": {},
   "outputs": [
    {
     "name": "stdout",
     "output_type": "stream",
     "text": [
      "   mean radius  mean texture  mean perimeter  mean area  mean smoothness  \\\n",
      "0     1.097064     -2.073335        1.269934   0.984375         1.568466   \n",
      "1     1.829821     -0.353632        1.685955   1.908708        -0.826962   \n",
      "2     1.579888      0.456187        1.566503   1.558884         0.942210   \n",
      "3    -0.768909      0.253732       -0.592687  -0.764464         3.283553   \n",
      "4     1.750297     -1.151816        1.776573   1.826229         0.280372   \n",
      "\n",
      "   mean compactness  mean concavity  mean concave points  mean symmetry  \\\n",
      "0          3.283515        2.652874             2.532475       2.217515   \n",
      "1         -0.487072       -0.023846             0.548144       0.001392   \n",
      "2          1.052926        1.363478             2.037231       0.939685   \n",
      "3          3.402909        1.915897             1.451707       2.867383   \n",
      "4          0.539340        1.371011             1.428493      -0.009560   \n",
      "\n",
      "   mean fractal dimension  radius error  texture error  perimeter error  \\\n",
      "0                2.255747      2.489734      -0.565265         2.833031   \n",
      "1               -0.868652      0.499255      -0.876244         0.263327   \n",
      "2               -0.398008      1.228676      -0.780083         0.850928   \n",
      "3                4.910919      0.326373      -0.110409         0.286593   \n",
      "4               -0.562450      1.270543      -0.790244         1.273189   \n",
      "\n",
      "   area error  smoothness error  compactness error  concavity error  \\\n",
      "0    2.487578         -0.214002           1.316862         0.724026   \n",
      "1    0.742402         -0.605351          -0.692926        -0.440780   \n",
      "2    1.181336         -0.297005           0.814974         0.213076   \n",
      "3   -0.288378          0.689702           2.744280         0.819518   \n",
      "4    1.190357          1.483067          -0.048520         0.828471   \n",
      "\n",
      "   concave points error  symmetry error  fractal dimension error  \\\n",
      "0              0.660820        1.148757                 0.907083   \n",
      "1              0.260162       -0.805450                -0.099444   \n",
      "2              1.424827        0.237036                 0.293559   \n",
      "3              1.115007        4.732680                 2.047511   \n",
      "4              1.144205       -0.361092                 0.499328   \n",
      "\n",
      "   worst radius  worst texture  worst perimeter  worst area  worst smoothness  \\\n",
      "0      1.886690      -1.359293         2.303601    2.001237          1.307686   \n",
      "1      1.805927      -0.369203         1.535126    1.890489         -0.375612   \n",
      "2      1.511870      -0.023974         1.347475    1.456285          0.527407   \n",
      "3     -0.281464       0.133984        -0.249939   -0.550021          3.394275   \n",
      "4      1.298575      -1.466770         1.338539    1.220724          0.220556   \n",
      "\n",
      "   worst compactness  worst concavity  worst concave points  worst symmetry  \\\n",
      "0           2.616665         2.109526              2.296076        2.750622   \n",
      "1          -0.430444        -0.146749              1.087084       -0.243890   \n",
      "2           1.082932         0.854974              1.955000        1.152255   \n",
      "3           3.893397         1.989588              2.175786        6.046041   \n",
      "4          -0.313395         0.613179              0.729259       -0.868353   \n",
      "\n",
      "   worst fractal dimension  \n",
      "0                 1.937015  \n",
      "1                 0.281190  \n",
      "2                 0.201391  \n",
      "3                 4.935010  \n",
      "4                -0.397100  \n"
     ]
    }
   ],
   "source": [
    "pd.set_option('display.max_columns', None)\n",
    "print(X_std.head())"
   ]
  },
  {
   "cell_type": "code",
   "execution_count": 524,
   "id": "80939df8",
   "metadata": {},
   "outputs": [
    {
     "name": "stdout",
     "output_type": "stream",
     "text": [
      "   mean concave points  area error\n",
      "0             2.532475    2.487578\n",
      "1             0.548144    0.742402\n",
      "2             2.037231    1.181336\n",
      "3             1.451707   -0.288378\n",
      "4             1.428493    1.190357\n"
     ]
    }
   ],
   "source": [
    "#在已標準化後的數據，只取'mean concave points', 'area error'特徵進行SVM訓練\n",
    "\n",
    "X_std_2_feature=pd.DataFrame(X_std,columns=['mean concave points', 'area error'])\n",
    "print(X_std_2_feature.head())"
   ]
  },
  {
   "cell_type": "code",
   "execution_count": 525,
   "id": "837abc2f",
   "metadata": {},
   "outputs": [],
   "source": [
    "X_train,X_test,y_train,y_test=train_test_split(X_std_2_feature,y,test_size=0.2,random_state=10)"
   ]
  },
  {
   "cell_type": "code",
   "execution_count": 526,
   "id": "e3dcfd38",
   "metadata": {},
   "outputs": [
    {
     "name": "stdout",
     "output_type": "stream",
     "text": [
      "0.9098901098901099\n",
      "0.9473684210526315\n"
     ]
    }
   ],
   "source": [
    "model=svm.SVC()\n",
    "model.fit(X_train,y_train)\n",
    "#RBF核函數是支持向量機中最常用的非線性內核函數，它可以有效地處理各種類型的數據。\n",
    "#它是默認的內核函數，也是不指定kernel參數時的默認選項\n",
    "\n",
    "pred = model.predict(X_test)\n",
    "\n",
    "print(model.score(X_train,y_train))\n",
    "print(model.score(X_test, y_test))"
   ]
  },
  {
   "cell_type": "code",
   "execution_count": 527,
   "id": "ceedfd77",
   "metadata": {},
   "outputs": [
    {
     "name": "stdout",
     "output_type": "stream",
     "text": [
      "[[34  5]\n",
      " [ 1 74]]\n",
      "              precision    recall  f1-score   support\n",
      "\n",
      "           0       0.97      0.87      0.92        39\n",
      "           1       0.94      0.99      0.96        75\n",
      "\n",
      "    accuracy                           0.95       114\n",
      "   macro avg       0.95      0.93      0.94       114\n",
      "weighted avg       0.95      0.95      0.95       114\n",
      "\n"
     ]
    }
   ],
   "source": [
    "print(confusion_matrix(y_test,pred))\n",
    "print(classification_report(y_test,pred))"
   ]
  },
  {
   "cell_type": "code",
   "execution_count": 528,
   "id": "c21443a1",
   "metadata": {},
   "outputs": [
    {
     "name": "stdout",
     "output_type": "stream",
     "text": [
      "Fold 1: 0.8947368421052632\n",
      "Fold 2: 0.9210526315789473\n",
      "Fold 3: 0.9210526315789473\n",
      "Fold 4: 0.9298245614035088\n",
      "Fold 5: 0.9292035398230089\n",
      "Mean Score: 0.9191740412979351\n"
     ]
    }
   ],
   "source": [
    "from sklearn.model_selection import cross_val_score\n",
    "\n",
    "scores = cross_val_score(model, X_std_2_feature, y, cv=5)\n",
    "\n",
    "for fold, score in enumerate(scores, 1):\n",
    "    print(f\"Fold {fold}: {score}\")\n",
    "    \n",
    "print(\"Mean Score:\", scores.mean())"
   ]
  },
  {
   "cell_type": "code",
   "execution_count": 529,
   "id": "a3ed8758",
   "metadata": {},
   "outputs": [
    {
     "data": {
      "image/png": "[encoded data removed]",
      "text/plain": [
       "<Figure size 640x480 with 1 Axes>"
      ]
     },
     "metadata": {},
     "output_type": "display_data"
    }
   ],
   "source": [
    "#繪製ROC曲線\n",
    "from sklearn.metrics import RocCurveDisplay\n",
    "\n",
    "y_pred = model.decision_function(X_test)\n",
    "svc_disp = RocCurveDisplay.from_predictions(y_test,y_pred)\n",
    "plt.show()"
   ]
  },
  {
   "cell_type": "code",
   "execution_count": null,
   "id": "4a8cf638",
   "metadata": {},
   "outputs": [],
   "source": []
  },
  {
   "cell_type": "code",
   "execution_count": null,
   "id": "0ddfe3ba",
   "metadata": {},
   "outputs": [],
   "source": []
  },
  {
   "cell_type": "code",
   "execution_count": null,
   "id": "7d40efab",
   "metadata": {},
   "outputs": [],
   "source": []
  },
  {
   "cell_type": "code",
   "execution_count": 530,
   "id": "7e3b8676",
   "metadata": {},
   "outputs": [],
   "source": [
    "#在已標準化後的數據中，將全部30的特徵進行SVM訓練\n",
    "X_train,X_test,y_train,y_test=train_test_split(X_std,y,test_size=0.2,random_state=10)"
   ]
  },
  {
   "cell_type": "code",
   "execution_count": 531,
   "id": "7c1cf8ee",
   "metadata": {},
   "outputs": [
    {
     "name": "stdout",
     "output_type": "stream",
     "text": [
      "0.9846153846153847\n",
      "0.9736842105263158\n"
     ]
    }
   ],
   "source": [
    "model_all=svm.SVC()\n",
    "model_all.fit(X_train,y_train)\n",
    "#RBF核函數是支持向量機中最常用的非線性內核函數，它可以有效地處理各種類型的數據。\n",
    "#它是默認的內核函數，也是不指定kernel參數時的默認選項\n",
    "\n",
    "pred = model_all.predict(X_test)\n",
    "\n",
    "print(model_all.score(X_train,y_train))\n",
    "print(model_all.score(X_test, y_test))"
   ]
  },
  {
   "cell_type": "code",
   "execution_count": 532,
   "id": "dcb06cb6",
   "metadata": {},
   "outputs": [
    {
     "name": "stdout",
     "output_type": "stream",
     "text": [
      "[[39  0]\n",
      " [ 3 72]]\n",
      "              precision    recall  f1-score   support\n",
      "\n",
      "           0       0.93      1.00      0.96        39\n",
      "           1       1.00      0.96      0.98        75\n",
      "\n",
      "    accuracy                           0.97       114\n",
      "   macro avg       0.96      0.98      0.97       114\n",
      "weighted avg       0.98      0.97      0.97       114\n",
      "\n"
     ]
    }
   ],
   "source": [
    "print(confusion_matrix(y_test,pred))\n",
    "print(classification_report(y_test,pred))"
   ]
  },
  {
   "cell_type": "code",
   "execution_count": 533,
   "id": "480b9944",
   "metadata": {},
   "outputs": [
    {
     "name": "stdout",
     "output_type": "stream",
     "text": [
      "Fold 1: 0.9736842105263158\n",
      "Fold 2: 0.956140350877193\n",
      "Fold 3: 1.0\n",
      "Fold 4: 0.9649122807017544\n",
      "Fold 5: 0.9734513274336283\n",
      "Mean Score: 0.9736376339077782\n"
     ]
    }
   ],
   "source": [
    "from sklearn.model_selection import cross_val_score\n",
    "\n",
    "scores = cross_val_score(model_all,X_std, y, cv=5)\n",
    "\n",
    "for fold, score in enumerate(scores, 1):\n",
    "    print(f\"Fold {fold}: {score}\")\n",
    "    \n",
    "print(\"Mean Score:\", scores.mean())"
   ]
  },
  {
   "cell_type": "code",
   "execution_count": 534,
   "id": "310c4bdd",
   "metadata": {},
   "outputs": [
    {
     "data": {
      "image/png": "[encoded data removed]",
      "text/plain": [
       "<Figure size 640x480 with 1 Axes>"
      ]
     },
     "metadata": {},
     "output_type": "display_data"
    }
   ],
   "source": [
    "#繪製ROC曲線\n",
    "svc_disp = RocCurveDisplay.from_estimator(model_all,X_test,y_test)\n",
    "plt.show()"
   ]
  },
  {
   "cell_type": "code",
   "execution_count": 535,
   "id": "9dacb84d",
   "metadata": {},
   "outputs": [
    {
     "data": {
      "text/plain": [
       "\"\\n在已標準化的數據透過SVM訓練下，\\n只使用'mean concave points'和'area error'特徵集的平均分數為0.92，\\n而使用全部特徵的特徵集的平均分數為0.97；\\n只使用'mean concave points'和'area error'特徵集的F1-score為0.95，\\n而使用全部特徵的特徵集的F1-score為0.97。\\n這意味著'mean concave points'和'area error'這兩個特徵對於乳腺癌分類預測具有一定的預測能力，\\n它們可以在僅使用這兩個特徵的情況下得到相對較高的預測準確度與較高的F1-score。\\n\""
      ]
     },
     "execution_count": 535,
     "metadata": {},
     "output_type": "execute_result"
    }
   ],
   "source": [
    "'''\n",
    "在已標準化的數據透過SVM訓練下，\n",
    "只使用'mean concave points'和'area error'特徵集的平均分數為0.92，\n",
    "而使用全部特徵的特徵集的平均分數為0.97；\n",
    "只使用'mean concave points'和'area error'特徵集的F1-score為0.95，\n",
    "而使用全部特徵的特徵集的F1-score為0.97。\n",
    "這意味著'mean concave points'和'area error'這兩個特徵對於乳腺癌分類預測具有一定的預測能力，\n",
    "它們可以在僅使用這兩個特徵的情況下得到相對較高的預測準確度與較高的F1-score。\n",
    "'''"
   ]
  },
  {
   "cell_type": "code",
   "execution_count": null,
   "id": "b500a17b",
   "metadata": {},
   "outputs": [],
   "source": []
  },
  {
   "cell_type": "code",
   "execution_count": null,
   "id": "234a002b",
   "metadata": {},
   "outputs": [],
   "source": []
  },
  {
   "cell_type": "code",
   "execution_count": 536,
   "id": "151aeb2b",
   "metadata": {},
   "outputs": [],
   "source": [
    "#在已標準化後的數據並進行SVM訓練之下，找到兩個特徵組合集的重要度排序"
   ]
  },
  {
   "cell_type": "code",
   "execution_count": 537,
   "id": "fa556c99",
   "metadata": {},
   "outputs": [
    {
     "name": "stdout",
     "output_type": "stream",
     "text": [
      "[('mean radius', 'mean texture'), ('mean radius', 'mean perimeter'), ('mean radius', 'mean area'), ('mean radius', 'mean smoothness'), ('mean radius', 'mean compactness'), ('mean radius', 'mean concavity'), ('mean radius', 'mean concave points'), ('mean radius', 'mean symmetry'), ('mean radius', 'mean fractal dimension'), ('mean radius', 'radius error'), ('mean radius', 'texture error'), ('mean radius', 'perimeter error'), ('mean radius', 'area error'), ('mean radius', 'smoothness error'), ('mean radius', 'compactness error'), ('mean radius', 'concavity error'), ('mean radius', 'concave points error'), ('mean radius', 'symmetry error'), ('mean radius', 'fractal dimension error'), ('mean radius', 'worst radius'), ('mean radius', 'worst texture'), ('mean radius', 'worst perimeter'), ('mean radius', 'worst area'), ('mean radius', 'worst smoothness'), ('mean radius', 'worst compactness'), ('mean radius', 'worst concavity'), ('mean radius', 'worst concave points'), ('mean radius', 'worst symmetry'), ('mean radius', 'worst fractal dimension'), ('mean texture', 'mean perimeter'), ('mean texture', 'mean area'), ('mean texture', 'mean smoothness'), ('mean texture', 'mean compactness'), ('mean texture', 'mean concavity'), ('mean texture', 'mean concave points'), ('mean texture', 'mean symmetry'), ('mean texture', 'mean fractal dimension'), ('mean texture', 'radius error'), ('mean texture', 'texture error'), ('mean texture', 'perimeter error'), ('mean texture', 'area error'), ('mean texture', 'smoothness error'), ('mean texture', 'compactness error'), ('mean texture', 'concavity error'), ('mean texture', 'concave points error'), ('mean texture', 'symmetry error'), ('mean texture', 'fractal dimension error'), ('mean texture', 'worst radius'), ('mean texture', 'worst texture'), ('mean texture', 'worst perimeter'), ('mean texture', 'worst area'), ('mean texture', 'worst smoothness'), ('mean texture', 'worst compactness'), ('mean texture', 'worst concavity'), ('mean texture', 'worst concave points'), ('mean texture', 'worst symmetry'), ('mean texture', 'worst fractal dimension'), ('mean perimeter', 'mean area'), ('mean perimeter', 'mean smoothness'), ('mean perimeter', 'mean compactness'), ('mean perimeter', 'mean concavity'), ('mean perimeter', 'mean concave points'), ('mean perimeter', 'mean symmetry'), ('mean perimeter', 'mean fractal dimension'), ('mean perimeter', 'radius error'), ('mean perimeter', 'texture error'), ('mean perimeter', 'perimeter error'), ('mean perimeter', 'area error'), ('mean perimeter', 'smoothness error'), ('mean perimeter', 'compactness error'), ('mean perimeter', 'concavity error'), ('mean perimeter', 'concave points error'), ('mean perimeter', 'symmetry error'), ('mean perimeter', 'fractal dimension error'), ('mean perimeter', 'worst radius'), ('mean perimeter', 'worst texture'), ('mean perimeter', 'worst perimeter'), ('mean perimeter', 'worst area'), ('mean perimeter', 'worst smoothness'), ('mean perimeter', 'worst compactness'), ('mean perimeter', 'worst concavity'), ('mean perimeter', 'worst concave points'), ('mean perimeter', 'worst symmetry'), ('mean perimeter', 'worst fractal dimension'), ('mean area', 'mean smoothness'), ('mean area', 'mean compactness'), ('mean area', 'mean concavity'), ('mean area', 'mean concave points'), ('mean area', 'mean symmetry'), ('mean area', 'mean fractal dimension'), ('mean area', 'radius error'), ('mean area', 'texture error'), ('mean area', 'perimeter error'), ('mean area', 'area error'), ('mean area', 'smoothness error'), ('mean area', 'compactness error'), ('mean area', 'concavity error'), ('mean area', 'concave points error'), ('mean area', 'symmetry error'), ('mean area', 'fractal dimension error'), ('mean area', 'worst radius'), ('mean area', 'worst texture'), ('mean area', 'worst perimeter'), ('mean area', 'worst area'), ('mean area', 'worst smoothness'), ('mean area', 'worst compactness'), ('mean area', 'worst concavity'), ('mean area', 'worst concave points'), ('mean area', 'worst symmetry'), ('mean area', 'worst fractal dimension'), ('mean smoothness', 'mean compactness'), ('mean smoothness', 'mean concavity'), ('mean smoothness', 'mean concave points'), ('mean smoothness', 'mean symmetry'), ('mean smoothness', 'mean fractal dimension'), ('mean smoothness', 'radius error'), ('mean smoothness', 'texture error'), ('mean smoothness', 'perimeter error'), ('mean smoothness', 'area error'), ('mean smoothness', 'smoothness error'), ('mean smoothness', 'compactness error'), ('mean smoothness', 'concavity error'), ('mean smoothness', 'concave points error'), ('mean smoothness', 'symmetry error'), ('mean smoothness', 'fractal dimension error'), ('mean smoothness', 'worst radius'), ('mean smoothness', 'worst texture'), ('mean smoothness', 'worst perimeter'), ('mean smoothness', 'worst area'), ('mean smoothness', 'worst smoothness'), ('mean smoothness', 'worst compactness'), ('mean smoothness', 'worst concavity'), ('mean smoothness', 'worst concave points'), ('mean smoothness', 'worst symmetry'), ('mean smoothness', 'worst fractal dimension'), ('mean compactness', 'mean concavity'), ('mean compactness', 'mean concave points'), ('mean compactness', 'mean symmetry'), ('mean compactness', 'mean fractal dimension'), ('mean compactness', 'radius error'), ('mean compactness', 'texture error'), ('mean compactness', 'perimeter error'), ('mean compactness', 'area error'), ('mean compactness', 'smoothness error'), ('mean compactness', 'compactness error'), ('mean compactness', 'concavity error'), ('mean compactness', 'concave points error'), ('mean compactness', 'symmetry error'), ('mean compactness', 'fractal dimension error'), ('mean compactness', 'worst radius'), ('mean compactness', 'worst texture'), ('mean compactness', 'worst perimeter'), ('mean compactness', 'worst area'), ('mean compactness', 'worst smoothness'), ('mean compactness', 'worst compactness'), ('mean compactness', 'worst concavity'), ('mean compactness', 'worst concave points'), ('mean compactness', 'worst symmetry'), ('mean compactness', 'worst fractal dimension'), ('mean concavity', 'mean concave points'), ('mean concavity', 'mean symmetry'), ('mean concavity', 'mean fractal dimension'), ('mean concavity', 'radius error'), ('mean concavity', 'texture error'), ('mean concavity', 'perimeter error'), ('mean concavity', 'area error'), ('mean concavity', 'smoothness error'), ('mean concavity', 'compactness error'), ('mean concavity', 'concavity error'), ('mean concavity', 'concave points error'), ('mean concavity', 'symmetry error'), ('mean concavity', 'fractal dimension error'), ('mean concavity', 'worst radius'), ('mean concavity', 'worst texture'), ('mean concavity', 'worst perimeter'), ('mean concavity', 'worst area'), ('mean concavity', 'worst smoothness'), ('mean concavity', 'worst compactness'), ('mean concavity', 'worst concavity'), ('mean concavity', 'worst concave points'), ('mean concavity', 'worst symmetry'), ('mean concavity', 'worst fractal dimension'), ('mean concave points', 'mean symmetry'), ('mean concave points', 'mean fractal dimension'), ('mean concave points', 'radius error'), ('mean concave points', 'texture error'), ('mean concave points', 'perimeter error'), ('mean concave points', 'area error'), ('mean concave points', 'smoothness error'), ('mean concave points', 'compactness error'), ('mean concave points', 'concavity error'), ('mean concave points', 'concave points error'), ('mean concave points', 'symmetry error'), ('mean concave points', 'fractal dimension error'), ('mean concave points', 'worst radius'), ('mean concave points', 'worst texture'), ('mean concave points', 'worst perimeter'), ('mean concave points', 'worst area'), ('mean concave points', 'worst smoothness'), ('mean concave points', 'worst compactness'), ('mean concave points', 'worst concavity'), ('mean concave points', 'worst concave points'), ('mean concave points', 'worst symmetry'), ('mean concave points', 'worst fractal dimension'), ('mean symmetry', 'mean fractal dimension'), ('mean symmetry', 'radius error'), ('mean symmetry', 'texture error'), ('mean symmetry', 'perimeter error'), ('mean symmetry', 'area error'), ('mean symmetry', 'smoothness error'), ('mean symmetry', 'compactness error'), ('mean symmetry', 'concavity error'), ('mean symmetry', 'concave points error'), ('mean symmetry', 'symmetry error'), ('mean symmetry', 'fractal dimension error'), ('mean symmetry', 'worst radius'), ('mean symmetry', 'worst texture'), ('mean symmetry', 'worst perimeter'), ('mean symmetry', 'worst area'), ('mean symmetry', 'worst smoothness'), ('mean symmetry', 'worst compactness'), ('mean symmetry', 'worst concavity'), ('mean symmetry', 'worst concave points'), ('mean symmetry', 'worst symmetry'), ('mean symmetry', 'worst fractal dimension'), ('mean fractal dimension', 'radius error'), ('mean fractal dimension', 'texture error'), ('mean fractal dimension', 'perimeter error'), ('mean fractal dimension', 'area error'), ('mean fractal dimension', 'smoothness error'), ('mean fractal dimension', 'compactness error'), ('mean fractal dimension', 'concavity error'), ('mean fractal dimension', 'concave points error'), ('mean fractal dimension', 'symmetry error'), ('mean fractal dimension', 'fractal dimension error'), ('mean fractal dimension', 'worst radius'), ('mean fractal dimension', 'worst texture'), ('mean fractal dimension', 'worst perimeter'), ('mean fractal dimension', 'worst area'), ('mean fractal dimension', 'worst smoothness'), ('mean fractal dimension', 'worst compactness'), ('mean fractal dimension', 'worst concavity'), ('mean fractal dimension', 'worst concave points'), ('mean fractal dimension', 'worst symmetry'), ('mean fractal dimension', 'worst fractal dimension'), ('radius error', 'texture error'), ('radius error', 'perimeter error'), ('radius error', 'area error'), ('radius error', 'smoothness error'), ('radius error', 'compactness error'), ('radius error', 'concavity error'), ('radius error', 'concave points error'), ('radius error', 'symmetry error'), ('radius error', 'fractal dimension error'), ('radius error', 'worst radius'), ('radius error', 'worst texture'), ('radius error', 'worst perimeter'), ('radius error', 'worst area'), ('radius error', 'worst smoothness'), ('radius error', 'worst compactness'), ('radius error', 'worst concavity'), ('radius error', 'worst concave points'), ('radius error', 'worst symmetry'), ('radius error', 'worst fractal dimension'), ('texture error', 'perimeter error'), ('texture error', 'area error'), ('texture error', 'smoothness error'), ('texture error', 'compactness error'), ('texture error', 'concavity error'), ('texture error', 'concave points error'), ('texture error', 'symmetry error'), ('texture error', 'fractal dimension error'), ('texture error', 'worst radius'), ('texture error', 'worst texture'), ('texture error', 'worst perimeter'), ('texture error', 'worst area'), ('texture error', 'worst smoothness'), ('texture error', 'worst compactness'), ('texture error', 'worst concavity'), ('texture error', 'worst concave points'), ('texture error', 'worst symmetry'), ('texture error', 'worst fractal dimension'), ('perimeter error', 'area error'), ('perimeter error', 'smoothness error'), ('perimeter error', 'compactness error'), ('perimeter error', 'concavity error'), ('perimeter error', 'concave points error'), ('perimeter error', 'symmetry error'), ('perimeter error', 'fractal dimension error'), ('perimeter error', 'worst radius'), ('perimeter error', 'worst texture'), ('perimeter error', 'worst perimeter'), ('perimeter error', 'worst area'), ('perimeter error', 'worst smoothness'), ('perimeter error', 'worst compactness'), ('perimeter error', 'worst concavity'), ('perimeter error', 'worst concave points'), ('perimeter error', 'worst symmetry'), ('perimeter error', 'worst fractal dimension'), ('area error', 'smoothness error'), ('area error', 'compactness error'), ('area error', 'concavity error'), ('area error', 'concave points error'), ('area error', 'symmetry error'), ('area error', 'fractal dimension error'), ('area error', 'worst radius'), ('area error', 'worst texture'), ('area error', 'worst perimeter'), ('area error', 'worst area'), ('area error', 'worst smoothness'), ('area error', 'worst compactness'), ('area error', 'worst concavity'), ('area error', 'worst concave points'), ('area error', 'worst symmetry'), ('area error', 'worst fractal dimension'), ('smoothness error', 'compactness error'), ('smoothness error', 'concavity error'), ('smoothness error', 'concave points error'), ('smoothness error', 'symmetry error'), ('smoothness error', 'fractal dimension error'), ('smoothness error', 'worst radius'), ('smoothness error', 'worst texture'), ('smoothness error', 'worst perimeter'), ('smoothness error', 'worst area'), ('smoothness error', 'worst smoothness'), ('smoothness error', 'worst compactness'), ('smoothness error', 'worst concavity'), ('smoothness error', 'worst concave points'), ('smoothness error', 'worst symmetry'), ('smoothness error', 'worst fractal dimension'), ('compactness error', 'concavity error'), ('compactness error', 'concave points error'), ('compactness error', 'symmetry error'), ('compactness error', 'fractal dimension error'), ('compactness error', 'worst radius'), ('compactness error', 'worst texture'), ('compactness error', 'worst perimeter'), ('compactness error', 'worst area'), ('compactness error', 'worst smoothness'), ('compactness error', 'worst compactness'), ('compactness error', 'worst concavity'), ('compactness error', 'worst concave points'), ('compactness error', 'worst symmetry'), ('compactness error', 'worst fractal dimension'), ('concavity error', 'concave points error'), ('concavity error', 'symmetry error'), ('concavity error', 'fractal dimension error'), ('concavity error', 'worst radius'), ('concavity error', 'worst texture'), ('concavity error', 'worst perimeter'), ('concavity error', 'worst area'), ('concavity error', 'worst smoothness'), ('concavity error', 'worst compactness'), ('concavity error', 'worst concavity'), ('concavity error', 'worst concave points'), ('concavity error', 'worst symmetry'), ('concavity error', 'worst fractal dimension'), ('concave points error', 'symmetry error'), ('concave points error', 'fractal dimension error'), ('concave points error', 'worst radius'), ('concave points error', 'worst texture'), ('concave points error', 'worst perimeter'), ('concave points error', 'worst area'), ('concave points error', 'worst smoothness'), ('concave points error', 'worst compactness'), ('concave points error', 'worst concavity'), ('concave points error', 'worst concave points'), ('concave points error', 'worst symmetry'), ('concave points error', 'worst fractal dimension'), ('symmetry error', 'fractal dimension error'), ('symmetry error', 'worst radius'), ('symmetry error', 'worst texture'), ('symmetry error', 'worst perimeter'), ('symmetry error', 'worst area'), ('symmetry error', 'worst smoothness'), ('symmetry error', 'worst compactness'), ('symmetry error', 'worst concavity'), ('symmetry error', 'worst concave points'), ('symmetry error', 'worst symmetry'), ('symmetry error', 'worst fractal dimension'), ('fractal dimension error', 'worst radius'), ('fractal dimension error', 'worst texture'), ('fractal dimension error', 'worst perimeter'), ('fractal dimension error', 'worst area'), ('fractal dimension error', 'worst smoothness'), ('fractal dimension error', 'worst compactness'), ('fractal dimension error', 'worst concavity'), ('fractal dimension error', 'worst concave points'), ('fractal dimension error', 'worst symmetry'), ('fractal dimension error', 'worst fractal dimension'), ('worst radius', 'worst texture'), ('worst radius', 'worst perimeter'), ('worst radius', 'worst area'), ('worst radius', 'worst smoothness'), ('worst radius', 'worst compactness'), ('worst radius', 'worst concavity'), ('worst radius', 'worst concave points'), ('worst radius', 'worst symmetry'), ('worst radius', 'worst fractal dimension'), ('worst texture', 'worst perimeter'), ('worst texture', 'worst area'), ('worst texture', 'worst smoothness'), ('worst texture', 'worst compactness'), ('worst texture', 'worst concavity'), ('worst texture', 'worst concave points'), ('worst texture', 'worst symmetry'), ('worst texture', 'worst fractal dimension'), ('worst perimeter', 'worst area'), ('worst perimeter', 'worst smoothness'), ('worst perimeter', 'worst compactness'), ('worst perimeter', 'worst concavity'), ('worst perimeter', 'worst concave points'), ('worst perimeter', 'worst symmetry'), ('worst perimeter', 'worst fractal dimension'), ('worst area', 'worst smoothness'), ('worst area', 'worst compactness'), ('worst area', 'worst concavity'), ('worst area', 'worst concave points'), ('worst area', 'worst symmetry'), ('worst area', 'worst fractal dimension'), ('worst smoothness', 'worst compactness'), ('worst smoothness', 'worst concavity'), ('worst smoothness', 'worst concave points'), ('worst smoothness', 'worst symmetry'), ('worst smoothness', 'worst fractal dimension'), ('worst compactness', 'worst concavity'), ('worst compactness', 'worst concave points'), ('worst compactness', 'worst symmetry'), ('worst compactness', 'worst fractal dimension'), ('worst concavity', 'worst concave points'), ('worst concavity', 'worst symmetry'), ('worst concavity', 'worst fractal dimension'), ('worst concave points', 'worst symmetry'), ('worst concave points', 'worst fractal dimension'), ('worst symmetry', 'worst fractal dimension')]\n",
      "435\n"
     ]
    }
   ],
   "source": [
    "from itertools import combinations\n",
    "\n",
    "combinations_list=list(combinations(breast_cancer.feature_names, 2))\n",
    "print(combinations_list)\n",
    "print(len(combinations_list))\n"
   ]
  },
  {
   "cell_type": "code",
   "execution_count": 538,
   "id": "6d50744d",
   "metadata": {},
   "outputs": [],
   "source": [
    "model_all_com=svm.SVC()\n",
    "scores_mean=[]\n",
    "\n",
    "for i in range(len(combinations_list)):\n",
    "    X_std_2_feature_com=pd.DataFrame(X_std,columns=combinations_list[i])\n",
    "    X_train,X_test,y_train,y_test=train_test_split(X_std_2_feature_com,y,test_size=0.2,random_state=10)    \n",
    "    model_all_com.fit(X_train,y_train)\n",
    "    scores = cross_val_score(model_all_com,X_test,y_test, cv=3)\n",
    "    scores_mean.append(scores.mean())"
   ]
  },
  {
   "cell_type": "code",
   "execution_count": 539,
   "id": "71e77eba",
   "metadata": {},
   "outputs": [
    {
     "name": "stdout",
     "output_type": "stream",
     "text": [
      "435\n"
     ]
    }
   ],
   "source": [
    "print(len(scores_mean))"
   ]
  },
  {
   "cell_type": "code",
   "execution_count": 540,
   "id": "c07fc080",
   "metadata": {},
   "outputs": [],
   "source": [
    "indices = np.argsort(scores_mean) #np.argsort :Returns the indices that would sort an array."
   ]
  },
  {
   "cell_type": "code",
   "execution_count": 541,
   "id": "764ecb2d",
   "metadata": {
    "scrolled": true
   },
   "outputs": [
    {
     "name": "stdout",
     "output_type": "stream",
     "text": [
      "2個特徵組合的重要度排序前10名：\n",
      "第 1 名\n",
      "['mean concave points' 'radius error']\n",
      "0.9736842105263158\n",
      "第 2 名\n",
      "['mean concave points' 'perimeter error']\n",
      "0.9649122807017544\n",
      "第 3 名\n",
      "['radius error' 'worst concave points']\n",
      "0.9649122807017544\n",
      "第 4 名\n",
      "['mean compactness' 'worst area']\n",
      "0.9649122807017544\n",
      "第 5 名\n",
      "['mean compactness' 'worst radius']\n",
      "0.9649122807017544\n",
      "第 6 名\n",
      "['worst area' 'worst compactness']\n",
      "0.9649122807017543\n",
      "第 7 名\n",
      "['mean compactness' 'worst perimeter']\n",
      "0.9561403508771931\n",
      "第 8 名\n",
      "['mean concave points' 'worst texture']\n",
      "0.956140350877193\n",
      "第 9 名\n",
      "['mean concave points' 'texture error']\n",
      "0.956140350877193\n",
      "第 10 名\n",
      "['mean concave points' 'area error']\n",
      "0.956140350877193\n"
     ]
    }
   ],
   "source": [
    "combinations_list=np.array(combinations_list)\n",
    "important_2_feature_sort_ascend=combinations_list[indices]\n",
    "important_2_feature_sort_descend=important_2_feature_sort_ascend[::-1]\n",
    "\n",
    "scores_mean=np.array(scores_mean)\n",
    "scores_mean_descend=scores_mean[indices][::-1]\n",
    "\n",
    "print('2個特徵組合的重要度排序前10名：')\n",
    "for i in range(10):\n",
    "    print('第',i+1,'名')\n",
    "    print(important_2_feature_sort_descend[i])\n",
    "    print(scores_mean_descend[i])\n"
   ]
  },
  {
   "cell_type": "code",
   "execution_count": 542,
   "id": "c2e93ca5",
   "metadata": {},
   "outputs": [
    {
     "name": "stdout",
     "output_type": "stream",
     "text": [
      "[187]\n"
     ]
    }
   ],
   "source": [
    "A=('mean concave points','area error')\n",
    "indices_specific = np.where(np.all(combinations_list == A,axis=1))[0]\n",
    "print(indices_specific)"
   ]
  },
  {
   "cell_type": "code",
   "execution_count": 543,
   "id": "bd3f73a6",
   "metadata": {},
   "outputs": [
    {
     "data": {
      "text/plain": [
       "array(['mean concave points', 'area error'], dtype='<U23')"
      ]
     },
     "execution_count": 543,
     "metadata": {},
     "output_type": "execute_result"
    }
   ],
   "source": [
    "combinations_list[187]"
   ]
  },
  {
   "cell_type": "code",
   "execution_count": 544,
   "id": "ffd5cea0",
   "metadata": {},
   "outputs": [
    {
     "data": {
      "text/plain": [
       "0.956140350877193"
      ]
     },
     "execution_count": 544,
     "metadata": {},
     "output_type": "execute_result"
    }
   ],
   "source": [
    "scores_mean[187]"
   ]
  },
  {
   "cell_type": "code",
   "execution_count": 545,
   "id": "c57938d8",
   "metadata": {},
   "outputs": [
    {
     "data": {
      "text/plain": [
       "\"\\n雖然'mean concave points', 'area error'，在已標準化後的數據並進行SVM訓練之下，\\n該兩個特徵組合集的重要度排序為第10名，但依然有0.956分，\\n相比較下，其他排名較前的兩個特徵組合集亦可能具有對分類預測有重要貢獻的信息，\\n並且可以發現在前10名的組合中，mean concave points的特徵出現最多次，共出現5次，\\n這意味著'mean concave points這個特徵對於乳腺癌分類預測具有一定的預測能力，\\n它可能對腫瘤是否為良性具有重要解釋的關鍵因素。\\n\""
      ]
     },
     "execution_count": 545,
     "metadata": {},
     "output_type": "execute_result"
    }
   ],
   "source": [
    "'''\n",
    "雖然'mean concave points', 'area error'，在已標準化後的數據並進行SVM訓練之下，\n",
    "該兩個特徵組合集的重要度排序為第10名，但依然有0.956分，\n",
    "相比較下，其他排名較前的兩個特徵組合集亦可能具有對分類預測有重要貢獻的信息，\n",
    "並且可以發現在前10名的組合中，mean concave points的特徵出現最多次，共出現5次，\n",
    "這意味著'mean concave points這個特徵對於乳腺癌分類預測具有一定的預測能力，\n",
    "它可能對腫瘤是否為良性具有重要解釋的關鍵因素。\n",
    "'''"
   ]
  },
  {
   "cell_type": "code",
   "execution_count": null,
   "id": "a4802391",
   "metadata": {},
   "outputs": [],
   "source": []
  },
  {
   "cell_type": "code",
   "execution_count": null,
   "id": "c6ca5a35",
   "metadata": {},
   "outputs": [],
   "source": []
  },
  {
   "cell_type": "code",
   "execution_count": null,
   "id": "7a2d5e12",
   "metadata": {},
   "outputs": [],
   "source": []
  },
  {
   "cell_type": "code",
   "execution_count": 546,
   "id": "6a88c6bc",
   "metadata": {},
   "outputs": [
    {
     "name": "stdout",
     "output_type": "stream",
     "text": [
      "   mean concave points  area error\n",
      "0              0.14710      153.40\n",
      "1              0.07017       74.08\n",
      "2              0.12790       94.03\n",
      "3              0.10520       27.23\n",
      "4              0.10430       94.44\n"
     ]
    }
   ],
   "source": [
    "#在未標準化的數據，只取'mean concave points', 'area error'特徵進行decision tree訓練\n",
    "#由於決策樹算法基於特徵的閾值來進行分割，因此它們對特徵的尺度不敏感\n",
    "\n",
    "X_2_feature=pd.DataFrame(X,columns=['mean concave points', 'area error'])\n",
    "print(X_2_feature.head())"
   ]
  },
  {
   "cell_type": "code",
   "execution_count": 547,
   "id": "f23dd80b",
   "metadata": {},
   "outputs": [],
   "source": [
    "X_train,X_test,y_train,y_test=train_test_split(X_2_feature,y,test_size=0.2,random_state=10)"
   ]
  },
  {
   "cell_type": "code",
   "execution_count": 548,
   "id": "92ef02e0",
   "metadata": {},
   "outputs": [],
   "source": [
    "from sklearn.tree import DecisionTreeClassifier\n",
    "\n",
    "clf = DecisionTreeClassifier(criterion = 'entropy',max_depth=3, random_state=0)\n",
    "clf.fit(X_train,y_train)\n",
    "pred=clf.predict(X_test)"
   ]
  },
  {
   "cell_type": "code",
   "execution_count": 549,
   "id": "ee81d8a1",
   "metadata": {},
   "outputs": [
    {
     "name": "stdout",
     "output_type": "stream",
     "text": [
      "training score: 0.9274725274725275\n",
      "test score: 0.9035087719298246\n"
     ]
    }
   ],
   "source": [
    "print('training score:',clf.score(X_train,y_train))\n",
    "print('test score:',clf.score(X_test,y_test))"
   ]
  },
  {
   "cell_type": "code",
   "execution_count": 550,
   "id": "a6c64dbc",
   "metadata": {},
   "outputs": [
    {
     "name": "stdout",
     "output_type": "stream",
     "text": [
      "[[32  7]\n",
      " [ 4 71]]\n",
      "              precision    recall  f1-score   support\n",
      "\n",
      "           0       0.89      0.82      0.85        39\n",
      "           1       0.91      0.95      0.93        75\n",
      "\n",
      "    accuracy                           0.90       114\n",
      "   macro avg       0.90      0.88      0.89       114\n",
      "weighted avg       0.90      0.90      0.90       114\n",
      "\n"
     ]
    }
   ],
   "source": [
    "print(confusion_matrix(y_test,pred))\n",
    "print(classification_report(y_test,pred))"
   ]
  },
  {
   "cell_type": "code",
   "execution_count": 551,
   "id": "feb683a2",
   "metadata": {},
   "outputs": [
    {
     "name": "stdout",
     "output_type": "stream",
     "text": [
      "Fold 1: 0.9035087719298246\n",
      "Fold 2: 0.9122807017543859\n",
      "Fold 3: 0.956140350877193\n",
      "Fold 4: 0.9385964912280702\n",
      "Fold 5: 0.9557522123893806\n",
      "Mean Score: 0.9332557056357709\n"
     ]
    }
   ],
   "source": [
    "scores = cross_val_score(clf,X, y, cv=5)\n",
    "\n",
    "for fold, score in enumerate(scores, 1):\n",
    "    print(f\"Fold {fold}: {score}\")\n",
    "    \n",
    "print(\"Mean Score:\", scores.mean())"
   ]
  },
  {
   "cell_type": "code",
   "execution_count": 552,
   "id": "6460c248",
   "metadata": {},
   "outputs": [
    {
     "data": {
      "image/png": "[encoded data removed]",
      "text/plain": [
       "<Figure size 640x480 with 1 Axes>"
      ]
     },
     "metadata": {},
     "output_type": "display_data"
    }
   ],
   "source": [
    "#繪製ROC曲線\n",
    "svc_disp = RocCurveDisplay.from_estimator(clf,X_test,y_test)\n",
    "plt.show()"
   ]
  },
  {
   "cell_type": "code",
   "execution_count": 553,
   "id": "a5769fc6",
   "metadata": {},
   "outputs": [
    {
     "data": {
      "image/png": "[encoded data removed]",
      "text/plain": [
       "<IPython.core.display.Image object>"
      ]
     },
     "execution_count": 553,
     "metadata": {},
     "output_type": "execute_result"
    }
   ],
   "source": [
    "from sklearn.tree import export_graphviz\n",
    "from sklearn import tree\n",
    "import pydotplus\n",
    "from IPython.display import Image  \n",
    "#將 Decisson Tree Classifier 放入\n",
    "dot_data = tree.export_graphviz(clf, out_file=None,\n",
    "                         feature_names=['mean concave points', 'area error'],  \n",
    "                         class_names=breast_cancer.target_names,\n",
    "                         filled=True, rounded=True,  \n",
    "                         special_characters=True)   \n",
    "graph = pydotplus.graph_from_dot_data(dot_data)  \n",
    "Image(graph.create_png()) "
   ]
  },
  {
   "cell_type": "code",
   "execution_count": null,
   "id": "896088fa",
   "metadata": {},
   "outputs": [],
   "source": []
  },
  {
   "cell_type": "code",
   "execution_count": null,
   "id": "965df2c0",
   "metadata": {},
   "outputs": [],
   "source": []
  },
  {
   "cell_type": "code",
   "execution_count": null,
   "id": "15eedcf7",
   "metadata": {},
   "outputs": [],
   "source": []
  },
  {
   "cell_type": "code",
   "execution_count": 554,
   "id": "f460d1e7",
   "metadata": {},
   "outputs": [
    {
     "name": "stdout",
     "output_type": "stream",
     "text": [
      "   mean concave points  area error\n",
      "0             2.532475    2.487578\n",
      "1             0.548144    0.742402\n",
      "2             2.037231    1.181336\n",
      "3             1.451707   -0.288378\n",
      "4             1.428493    1.190357\n"
     ]
    }
   ],
   "source": [
    "#在已標準化的數據，只取'mean concave points', 'area error'特徵進行Logistic regression訓練\n",
    "#由於由於Logistic Regression在進行優化時，求解器（solver）可能對數據的尺度敏感。\n",
    "#標準化可以消除特徵尺度的差異，減小噪聲特徵的影響，並提供更穩定的優化過程。\n",
    "\n",
    "X_std_2_feature=pd.DataFrame(X_std,columns=['mean concave points', 'area error'])\n",
    "print(X_std_2_feature.head())"
   ]
  },
  {
   "cell_type": "code",
   "execution_count": 555,
   "id": "4642f13a",
   "metadata": {},
   "outputs": [],
   "source": [
    "X_train,X_test,y_train,y_test=train_test_split(X_std_2_feature,y,test_size=0.2,random_state=10)"
   ]
  },
  {
   "cell_type": "code",
   "execution_count": 556,
   "id": "c5a2ab14",
   "metadata": {},
   "outputs": [
    {
     "name": "stdout",
     "output_type": "stream",
     "text": [
      "training score: 0.9142857142857143\n",
      "test score: 0.9473684210526315\n"
     ]
    }
   ],
   "source": [
    "lr = LogisticRegression(solver='liblinear')\n",
    "lr.fit(X_train,y_train)\n",
    "pred = lr.predict(X_test)\n",
    "\n",
    "print('training score:',lr.score(X_train,y_train))\n",
    "print('test score:',lr.score(X_test,y_test))"
   ]
  },
  {
   "cell_type": "code",
   "execution_count": 557,
   "id": "81cf865a",
   "metadata": {},
   "outputs": [
    {
     "name": "stdout",
     "output_type": "stream",
     "text": [
      "[[34  5]\n",
      " [ 1 74]]\n",
      "              precision    recall  f1-score   support\n",
      "\n",
      "           0       0.97      0.87      0.92        39\n",
      "           1       0.94      0.99      0.96        75\n",
      "\n",
      "    accuracy                           0.95       114\n",
      "   macro avg       0.95      0.93      0.94       114\n",
      "weighted avg       0.95      0.95      0.95       114\n",
      "\n"
     ]
    }
   ],
   "source": [
    "print(confusion_matrix(y_test,pred))\n",
    "print(classification_report(y_test,pred))"
   ]
  },
  {
   "cell_type": "code",
   "execution_count": 558,
   "id": "d60b3a6f",
   "metadata": {},
   "outputs": [
    {
     "name": "stdout",
     "output_type": "stream",
     "text": [
      "Fold 1: 0.9824561403508771\n",
      "Fold 2: 0.9736842105263158\n",
      "Fold 3: 0.9736842105263158\n",
      "Fold 4: 0.9736842105263158\n",
      "Fold 5: 0.9911504424778761\n",
      "Mean Score: 0.9789318428815402\n"
     ]
    }
   ],
   "source": [
    "scores = cross_val_score(lr,X_std, y, cv=5)\n",
    "\n",
    "for fold, score in enumerate(scores, 1):\n",
    "    print(f\"Fold {fold}: {score}\")\n",
    "    \n",
    "print(\"Mean Score:\", scores.mean())"
   ]
  },
  {
   "cell_type": "code",
   "execution_count": 559,
   "id": "093fc9bb",
   "metadata": {},
   "outputs": [
    {
     "data": {
      "image/png": "[encoded data removed]",
      "text/plain": [
       "<Figure size 640x480 with 1 Axes>"
      ]
     },
     "metadata": {},
     "output_type": "display_data"
    }
   ],
   "source": [
    "#繪製ROC曲線\n",
    "svc_disp = RocCurveDisplay.from_estimator(lr,X_test,y_test)\n",
    "plt.show()"
   ]
  },
  {
   "cell_type": "code",
   "execution_count": 560,
   "id": "77430c8f",
   "metadata": {},
   "outputs": [
    {
     "name": "stderr",
     "output_type": "stream",
     "text": [
      "C:\\Users\\user\\anaconda3\\lib\\site-packages\\sklearn\\base.py:464: UserWarning: X does not have valid feature names, but LogisticRegression was fitted with feature names\n",
      "  warnings.warn(\n"
     ]
    },
    {
     "data": {
      "image/png": "[encoded data removed]",
      "text/plain": [
       "<Figure size 640x480 with 1 Axes>"
      ]
     },
     "metadata": {},
     "output_type": "display_data"
    }
   ],
   "source": [
    "\n",
    "\n",
    "# 創建網格點\n",
    "x1_min, x1_max = X_train.iloc[:, 0].min() - 1, X_train.iloc[:, 0].max() + 1\n",
    "x2_min, x2_max = X_train.iloc[:, 1].min() - 1, X_train.iloc[:, 1].max() + 1\n",
    "xx1, xx2 = np.meshgrid(np.arange(x1_min, x1_max, 0.01),\n",
    "                       np.arange(x2_min, x2_max, 0.01))\n",
    "\n",
    "# 預測網格點的類別\n",
    "Z = lr.predict(np.c_[xx1.ravel(), xx2.ravel()])\n",
    "Z = Z.reshape(xx1.shape)\n",
    "\n",
    "# 繪製散點圖\n",
    "plt.scatter(X_train.iloc[:, 0], X_train.iloc[:, 1],c=y_train)\n",
    "\n",
    "# 繪製決策邊界線\n",
    "plt.contourf(xx1, xx2, Z, alpha=0.4)\n",
    "\n",
    "plt.title('Logistic Regression Decision Boundary')\n",
    "plt.xlabel('mean concave points')\n",
    "plt.ylabel('area error')\n",
    "\n",
    "\n",
    "plt.show()\n",
    "\n",
    "\n",
    "\n",
    "\n",
    "\n",
    "\n",
    "\n"
   ]
  },
  {
   "cell_type": "code",
   "execution_count": null,
   "id": "42c81269",
   "metadata": {},
   "outputs": [],
   "source": []
  },
  {
   "cell_type": "code",
   "execution_count": null,
   "id": "9bf15824",
   "metadata": {},
   "outputs": [],
   "source": []
  },
  {
   "cell_type": "code",
   "execution_count": null,
   "id": "6f7af7c3",
   "metadata": {},
   "outputs": [],
   "source": []
  },
  {
   "cell_type": "code",
   "execution_count": 561,
   "id": "fd340049",
   "metadata": {},
   "outputs": [
    {
     "name": "stdout",
     "output_type": "stream",
     "text": [
      "   mean concave points  area error\n",
      "0              0.14710      153.40\n",
      "1              0.07017       74.08\n",
      "2              0.12790       94.03\n",
      "3              0.10520       27.23\n",
      "4              0.10430       94.44\n"
     ]
    }
   ],
   "source": [
    "#在未標準化的數據，只取'mean concave points', 'area error'特徵進行Adaboost訓練\n",
    "#AdaBoost的主要關注點是樣本的權重調整，而不是特徵的縮放或標準化。\n",
    "#因此，即使數據沒有進行縮放或標準化，AdaBoost仍然可以有效地工作\n",
    "\n",
    "X_2_feature=pd.DataFrame(X,columns=['mean concave points', 'area error'])\n",
    "print(X_2_feature.head())"
   ]
  },
  {
   "cell_type": "code",
   "execution_count": 562,
   "id": "28fb41ac",
   "metadata": {},
   "outputs": [],
   "source": [
    "X_train,X_test,y_train,y_test=train_test_split(X_2_feature,y,test_size=0.2,random_state=50)"
   ]
  },
  {
   "cell_type": "code",
   "execution_count": 563,
   "id": "20b429cd",
   "metadata": {},
   "outputs": [],
   "source": [
    "AdaBoost_2 = AdaBoostClassifier(n_estimators=100) \n",
    "AdaBoost_2.fit(X_train, y_train)\n",
    "pred_2 = AdaBoost_2.predict(X_test)"
   ]
  },
  {
   "cell_type": "code",
   "execution_count": 564,
   "id": "0ab8252e",
   "metadata": {},
   "outputs": [
    {
     "name": "stdout",
     "output_type": "stream",
     "text": [
      "training score: 0.9604395604395605\n",
      "test score: 0.9385964912280702\n"
     ]
    }
   ],
   "source": [
    "print('training score:',AdaBoost_2.score(X_train,y_train))\n",
    "print('test score:',AdaBoost_2.score(X_test,y_test))"
   ]
  },
  {
   "cell_type": "code",
   "execution_count": 565,
   "id": "c29a76b8",
   "metadata": {},
   "outputs": [
    {
     "name": "stdout",
     "output_type": "stream",
     "text": [
      "[[36  3]\n",
      " [ 4 71]]\n",
      "              precision    recall  f1-score   support\n",
      "\n",
      "           0       0.90      0.92      0.91        39\n",
      "           1       0.96      0.95      0.95        75\n",
      "\n",
      "    accuracy                           0.94       114\n",
      "   macro avg       0.93      0.93      0.93       114\n",
      "weighted avg       0.94      0.94      0.94       114\n",
      "\n"
     ]
    }
   ],
   "source": [
    "print(confusion_matrix(y_test,pred_2))\n",
    "print(classification_report(y_test,pred_2))"
   ]
  },
  {
   "cell_type": "code",
   "execution_count": 566,
   "id": "e35a0a7a",
   "metadata": {},
   "outputs": [
    {
     "name": "stdout",
     "output_type": "stream",
     "text": [
      "Fold 1: 0.9473684210526315\n",
      "Fold 2: 0.956140350877193\n",
      "Fold 3: 0.9912280701754386\n",
      "Fold 4: 0.9912280701754386\n",
      "Fold 5: 0.9823008849557522\n",
      "Mean Score: 0.9736531594472908\n"
     ]
    }
   ],
   "source": [
    "scores = cross_val_score(AdaBoost_2,X, y, cv=5)\n",
    "\n",
    "for fold, score in enumerate(scores, 1):\n",
    "    print(f\"Fold {fold}: {score}\")\n",
    "    \n",
    "print(\"Mean Score:\", scores.mean())"
   ]
  },
  {
   "cell_type": "code",
   "execution_count": 567,
   "id": "818cb33e",
   "metadata": {},
   "outputs": [
    {
     "data": {
      "image/png": "[encoded data removed]",
      "text/plain": [
       "<Figure size 640x480 with 1 Axes>"
      ]
     },
     "metadata": {},
     "output_type": "display_data"
    }
   ],
   "source": [
    "#繪製ROC曲線\n",
    "svc_disp = RocCurveDisplay.from_estimator(AdaBoost_2,X_test,y_test)\n",
    "plt.show()"
   ]
  },
  {
   "cell_type": "code",
   "execution_count": 568,
   "id": "ca37f418",
   "metadata": {},
   "outputs": [
    {
     "name": "stderr",
     "output_type": "stream",
     "text": [
      "C:\\Users\\user\\anaconda3\\lib\\site-packages\\sklearn\\base.py:464: UserWarning: X does not have valid feature names, but AdaBoostClassifier was fitted with feature names\n",
      "  warnings.warn(\n"
     ]
    },
    {
     "data": {
      "image/png": "[encoded data removed]",
      "text/plain": [
       "<Figure size 640x480 with 1 Axes>"
      ]
     },
     "metadata": {},
     "output_type": "display_data"
    }
   ],
   "source": [
    "#AdaBoost算法本身並不直接生成決策邊界線；\n",
    "#然而，可以通過繪製模型在特徵空間中的分類結果來近似可視化決策邊界。\n",
    "\n",
    "\n",
    "# 創建網格點\n",
    "x1_min, x1_max = X_train.iloc[:, 0].min() - 1, X_train.iloc[:, 0].max() + 1\n",
    "x2_min, x2_max = X_train.iloc[:, 1].min() - 1, X_train.iloc[:, 1].max() + 1\n",
    "xx1, xx2 = np.meshgrid(np.arange(x1_min, x1_max, 0.01),\n",
    "                       np.arange(x2_min, x2_max, 0.01))\n",
    "\n",
    "# 預測網格點的類別\n",
    "Z = AdaBoost_2.predict(np.c_[xx1.ravel(), xx2.ravel()])\n",
    "Z = Z.reshape(xx1.shape)\n",
    "\n",
    "# 繪製散點圖\n",
    "plt.scatter(X_train.iloc[:, 0], X_train.iloc[:, 1],c=y_train)\n",
    "\n",
    "# 繪製決策邊界線\n",
    "plt.contourf(xx1, xx2, Z, alpha=0.4)\n",
    "\n",
    "plt.title('AdaBoost Decision Boundary')\n",
    "plt.xlabel('mean concave points')\n",
    "plt.ylabel('area error')\n",
    "\n",
    "\n",
    "plt.show()\n"
   ]
  },
  {
   "cell_type": "code",
   "execution_count": 569,
   "id": "dc87c9e7",
   "metadata": {},
   "outputs": [],
   "source": [
    "importances = AdaBoost_2.feature_importances_"
   ]
  },
  {
   "cell_type": "code",
   "execution_count": 570,
   "id": "f4b9060f",
   "metadata": {},
   "outputs": [
    {
     "name": "stdout",
     "output_type": "stream",
     "text": [
      "[0.61 0.39]\n",
      "[1 0]\n",
      "Index(['mean concave points', 'area error'], dtype='object')\n"
     ]
    }
   ],
   "source": [
    "print(importances)\n",
    "indices = np.argsort(importances)  #np.argsort :Returns the indices that would sort an array.\n",
    "print(indices)\n",
    "features =X_train.keys()\n",
    "print(features)"
   ]
  },
  {
   "cell_type": "code",
   "execution_count": 571,
   "id": "067ce726",
   "metadata": {},
   "outputs": [
    {
     "data": {
      "text/plain": [
       "Text(0.5, 0, 'Relative Importance')"
      ]
     },
     "execution_count": 571,
     "metadata": {},
     "output_type": "execute_result"
    },
    {
     "data": {
      "image/png": "[encoded data removed]",
      "text/plain": [
       "<Figure size 640x480 with 1 Axes>"
      ]
     },
     "metadata": {},
     "output_type": "display_data"
    }
   ],
   "source": [
    "plt.title('Feature Importances')\n",
    "plt.barh(range(len(indices)), importances[indices], color='b', align='center')\n",
    "plt.yticks(range(len(indices)), features[indices])\n",
    "plt.xlabel('Relative Importance')"
   ]
  },
  {
   "cell_type": "code",
   "execution_count": null,
   "id": "38701113",
   "metadata": {},
   "outputs": [],
   "source": []
  },
  {
   "cell_type": "code",
   "execution_count": null,
   "id": "986d23ca",
   "metadata": {},
   "outputs": [],
   "source": []
  },
  {
   "cell_type": "code",
   "execution_count": null,
   "id": "cb6adfb8",
   "metadata": {},
   "outputs": [],
   "source": []
  },
  {
   "cell_type": "code",
   "execution_count": 572,
   "id": "a5f7b025",
   "metadata": {},
   "outputs": [
    {
     "name": "stdout",
     "output_type": "stream",
     "text": [
      "training score: 0.9120879120879121\n",
      "test score: 0.9473684210526315\n",
      "[[35  4]\n",
      " [ 2 73]]\n",
      "              precision    recall  f1-score   support\n",
      "\n",
      "           0       0.95      0.90      0.92        39\n",
      "           1       0.95      0.97      0.96        75\n",
      "\n",
      "    accuracy                           0.95       114\n",
      "   macro avg       0.95      0.94      0.94       114\n",
      "weighted avg       0.95      0.95      0.95       114\n",
      "\n",
      "Fold 1: 0.956140350877193\n",
      "Fold 2: 0.9824561403508771\n",
      "Fold 3: 0.9649122807017544\n",
      "Fold 4: 0.9649122807017544\n",
      "Fold 5: 0.9823008849557522\n",
      "Mean Score: 0.9701443875174661\n"
     ]
    },
    {
     "data": {
      "image/png": "[encoded data removed]",
      "text/plain": [
       "<Figure size 640x480 with 1 Axes>"
      ]
     },
     "metadata": {},
     "output_type": "display_data"
    },
    {
     "name": "stderr",
     "output_type": "stream",
     "text": [
      "C:\\Users\\user\\anaconda3\\lib\\site-packages\\sklearn\\base.py:464: UserWarning: X does not have valid feature names, but SVC was fitted with feature names\n",
      "  warnings.warn(\n"
     ]
    },
    {
     "data": {
      "image/png": "[encoded data removed]",
      "text/plain": [
       "<Figure size 640x480 with 1 Axes>"
      ]
     },
     "metadata": {},
     "output_type": "display_data"
    }
   ],
   "source": [
    "#在已標準化後的數據，只取'mean concave points', 'area error'特徵進行SVM的線性的核函數訓練\n",
    "\n",
    "X_std_2_feature=pd.DataFrame(X_std,columns=['mean concave points', 'area error'])\n",
    "\n",
    "X_train,X_test,y_train,y_test=train_test_split(X_std_2_feature,y,test_size=0.2,random_state=10)\n",
    "\n",
    "model=svm.SVC(kernel=\"linear\")\n",
    "model.fit(X_train,y_train)\n",
    "#使用線性核函數\n",
    "\n",
    "pred = model.predict(X_test)\n",
    "\n",
    "print('training score:',model.score(X_train,y_train))\n",
    "print('test score:',model.score(X_test,y_test))\n",
    "\n",
    "print(confusion_matrix(y_test,pred))\n",
    "print(classification_report(y_test,pred))\n",
    "\n",
    "\n",
    "scores = cross_val_score(model,X_std, y, cv=5)\n",
    "for fold, score in enumerate(scores, 1):\n",
    "    print(f\"Fold {fold}: {score}\")\n",
    "    \n",
    "print(\"Mean Score:\", scores.mean())\n",
    "\n",
    "\n",
    "#繪製ROC曲線\n",
    "svc_disp = RocCurveDisplay.from_estimator(model,X_test,y_test)\n",
    "plt.show()\n",
    "\n",
    "\n",
    "\n",
    "#獲得支持向量\n",
    "support_vectors = model.support_vectors_\n",
    "\n",
    "#獲得決策邊界參數\n",
    "w = model.coef_[0]\n",
    "b = model.intercept_[0]\n",
    "\n",
    "#繪製數據點 \n",
    "plt.scatter(X_std.iloc[:, 0], X_std.iloc[:, 1], c=y)\n",
    "\n",
    "#繪製支持向量(黑色圈圈)\n",
    "plt.scatter(support_vectors[:, 0], support_vectors[:, 1], s=100,facecolors='none', edgecolors='k')\n",
    "\n",
    "#繪製決策邊界線\n",
    "x_min, x_max = X_std.iloc[:, 0].min() - 1, X_std.iloc[:, 0].max() + 1\n",
    "y_min, y_max = X_std.iloc[:, 1].min() - 1, X_std.iloc[:, 1].max() + 1\n",
    "xx, yy = np.meshgrid(np.arange(x_min, x_max, 0.1),\n",
    "                     np.arange(y_min, y_max, 0.1))\n",
    "Z = model.predict(np.c_[xx.ravel(), yy.ravel()])\n",
    "Z = Z.reshape(xx.shape)\n",
    "plt.contour(xx, yy, Z, colors='k', linestyles=['-'], levels=[0])\n",
    "\n",
    "plt.xlabel('mean concave points')\n",
    "plt.ylabel('area error')\n",
    "plt.title('SVM Decision Boundary')\n",
    "plt.show()"
   ]
  },
  {
   "cell_type": "code",
   "execution_count": 573,
   "id": "6842f402",
   "metadata": {},
   "outputs": [
    {
     "data": {
      "text/plain": [
       "'\\n多個黑色圈圈出現在決策邊界上的涵義是這些點被標識為支持向量（Support Vectors）。\\n這有助於將它們與其他數據點區分開來，並強調它們在模型中的重要性。 \\n因此，當在SVM的決策邊界上看到多個黑色圈圈時，\\n它們表示了訓練數據中離決策邊界最近的支持向量點，\\n這些點對於模型的決策邊界起到關鍵作用。\\n因為它們確定了決策邊界的位置和形狀。\\n'"
      ]
     },
     "execution_count": 573,
     "metadata": {},
     "output_type": "execute_result"
    }
   ],
   "source": [
    "'''\n",
    "多個黑色圈圈出現在決策邊界上的涵義是這些點被標識為支持向量（Support Vectors）。\n",
    "這有助於將它們與其他數據點區分開來，並強調它們在模型中的重要性。 \n",
    "因此，當在SVM的決策邊界上看到多個黑色圈圈時，\n",
    "它們表示了訓練數據中離決策邊界最近的支持向量點，\n",
    "這些點對於模型的決策邊界起到關鍵作用。\n",
    "因為它們確定了決策邊界的位置和形狀。\n",
    "'''"
   ]
  }
 ],
 "metadata": {
  "kernelspec": {
   "display_name": "Python 3 (ipykernel)",
   "language": "python",
   "name": "python3"
  },
  "language_info": {
   "codemirror_mode": {
    "name": "ipython",
    "version": 3
   },
   "file_extension": ".py",
   "mimetype": "text/x-python",
   "name": "python",
   "nbconvert_exporter": "python",
   "pygments_lexer": "ipython3",
   "version": "3.10.9"
  }
 },
 "nbformat": 4,
 "nbformat_minor": 5
}
